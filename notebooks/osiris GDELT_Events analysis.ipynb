{
 "cells": [
  {
   "cell_type": "markdown",
   "metadata": {},
   "source": [
    "## Connect"
   ]
  },
  {
   "cell_type": "code",
   "execution_count": 1,
   "metadata": {},
   "outputs": [],
   "source": [
    "import os, sys\n",
    "sys.path.append(os.path.join('..', 'osiris'))\n",
    "sys.path.insert(0, os.path.join('..', 'ext'))\n",
    "from osiris_global import set_runtime_env\n",
    "set_runtime_env(debug = False, interactive_nb=True)"
   ]
  },
  {
   "cell_type": "code",
   "execution_count": 3,
   "metadata": {},
   "outputs": [],
   "source": [
    "import os, sys\n",
    "from graphistry import graphistry\n",
    "#graphistry.register(api=3, username=os.environ['GRAPHISTRY_USER'], password=os.environ['GRAPHISTRY_PASS'], protocol='https', server='hub.graphistry.com')"
   ]
  },
  {
   "cell_type": "code",
   "execution_count": 4,
   "metadata": {},
   "outputs": [
    {
     "name": "stdout",
     "output_type": "stream",
     "text": [
      "No authorization token specified for REST++ requests.\n"
     ]
    }
   ],
   "source": [
    "g = graphistry.tigergraph(\n",
    "    protocol='https', server='osiris-dev2.i.tgcloud.io',\n",
    "    user=os.environ['OSIRIS_GRAPH_SERVER_USER'], pwd=os.environ['OSIRIS_GRAPH_SERVER_PASS'], \n",
    "    db='GDELT_Events'\n",
    ")"
   ]
  },
  {
   "cell_type": "markdown",
   "metadata": {},
   "source": [
    "## Query and Visualize"
   ]
  },
  {
   "cell_type": "code",
   "execution_count": 5,
   "metadata": {
    "scrolled": true
   },
   "outputs": [
    {
     "name": "stdout",
     "output_type": "stream",
     "text": [
      "Edges: [].\n"
     ]
    },
    {
     "ename": "AttributeError",
     "evalue": "'NoneType' object has no attribute 'bind'",
     "output_type": "error",
     "traceback": [
      "\u001b[1;31m---------------------------------------------------------------------------\u001b[0m",
      "\u001b[1;31mAttributeError\u001b[0m                            Traceback (most recent call last)",
      "Input \u001b[1;32mIn [5]\u001b[0m, in \u001b[0;36m<cell line: 1>\u001b[1;34m()\u001b[0m\n\u001b[1;32m----> 1\u001b[0m g3 \u001b[38;5;241m=\u001b[39m \u001b[43mg\u001b[49m\u001b[38;5;241;43m.\u001b[39;49m\u001b[43mgsql\u001b[49m\u001b[43m(\u001b[49m\u001b[38;5;124;43m\"\"\"\u001b[39;49m\n\u001b[0;32m      2\u001b[0m \u001b[38;5;124;43m  INTERPRET QUERY () FOR GRAPH GDELT_Events \u001b[39;49m\u001b[38;5;124;43m{\u001b[39;49m\u001b[38;5;124;43m \u001b[39;49m\n\u001b[0;32m      3\u001b[0m \u001b[38;5;124;43m   ListAccum<EDGE> @edgeList;\u001b[39;49m\n\u001b[0;32m      4\u001b[0m \u001b[38;5;124;43m  actors = \u001b[39;49m\n\u001b[0;32m      5\u001b[0m \u001b[38;5;124;43m    select s from Actor:s-(Acted>:a)-Event:t\u001b[39;49m\n\u001b[0;32m      6\u001b[0m \u001b[38;5;124;43m    where t.event_date > \u001b[39;49m\u001b[38;5;124;43m\"\u001b[39;49m\u001b[38;5;124;43m2022-01-01\u001b[39;49m\u001b[38;5;124;43m\"\u001b[39;49m\n\u001b[0;32m      7\u001b[0m \u001b[38;5;124;43m    accum s.@edgeList += a\u001b[39;49m\n\u001b[0;32m      8\u001b[0m \u001b[38;5;124;43m    limit 100;\u001b[39;49m\n\u001b[0;32m      9\u001b[0m \u001b[38;5;124;43m  print actors[actors.@edgeList];\u001b[39;49m\n\u001b[0;32m     10\u001b[0m \u001b[38;5;124;43m  }\u001b[39;49m\n\u001b[0;32m     11\u001b[0m \u001b[38;5;124;43m    \u001b[39;49m\u001b[38;5;124;43m\"\"\"\u001b[39;49m\u001b[43m,\u001b[49m\u001b[43m \u001b[49m\n\u001b[0;32m     12\u001b[0m \u001b[43m  \u001b[49m\u001b[43m{\u001b[49m\u001b[38;5;124;43m'\u001b[39;49m\u001b[38;5;124;43mnodes\u001b[39;49m\u001b[38;5;124;43m'\u001b[39;49m\u001b[43m:\u001b[49m\u001b[38;5;124;43m'\u001b[39;49m\u001b[38;5;124;43mactors\u001b[39;49m\u001b[38;5;124;43m'\u001b[39;49m\u001b[43m,\u001b[49m\u001b[43m \u001b[49m\u001b[38;5;124;43m'\u001b[39;49m\u001b[38;5;124;43medges\u001b[39;49m\u001b[38;5;124;43m'\u001b[39;49m\u001b[43m:\u001b[49m\u001b[43m \u001b[49m\u001b[38;5;124;43m'\u001b[39;49m\u001b[38;5;124;43mactors.attributes.@edgeList\u001b[39;49m\u001b[38;5;124;43m'\u001b[39;49m\u001b[43m}\u001b[49m\n\u001b[0;32m     13\u001b[0m \u001b[43m)\u001b[49m       \n\u001b[0;32m     14\u001b[0m g3\u001b[38;5;241m.\u001b[39mplot()\n",
      "File \u001b[1;32mC:\\Projects\\osiris\\ext\\graphistry\\graphistry\\PlotterBase.py:2117\u001b[0m, in \u001b[0;36mPlotterBase.gsql\u001b[1;34m(self, query, bindings, dry_run)\u001b[0m\n\u001b[0;32m   2049\u001b[0m \u001b[38;5;28;01mdef\u001b[39;00m \u001b[38;5;21mgsql\u001b[39m(\u001b[38;5;28mself\u001b[39m, query, bindings \u001b[38;5;241m=\u001b[39m {}, dry_run \u001b[38;5;241m=\u001b[39m \u001b[38;5;28;01mFalse\u001b[39;00m):\n\u001b[0;32m   2050\u001b[0m     \u001b[38;5;124;03m\"\"\"Run Tigergraph query in interpreted mode and return transformed Plottable\u001b[39;00m\n\u001b[0;32m   2051\u001b[0m \u001b[38;5;124;03m\u001b[39;00m\n\u001b[0;32m   2052\u001b[0m \u001b[38;5;124;03m    :param query: Code to run\u001b[39;00m\n\u001b[1;32m   (...)\u001b[0m\n\u001b[0;32m   2115\u001b[0m \u001b[38;5;124;03m                \\\"\\\"\\\", {'edges': 'my_edge_list'}).plot()\u001b[39;00m\n\u001b[0;32m   2116\u001b[0m \u001b[38;5;124;03m    \"\"\"\u001b[39;00m        \n\u001b[1;32m-> 2117\u001b[0m     \u001b[38;5;28;01mreturn\u001b[39;00m \u001b[38;5;28;43mself\u001b[39;49m\u001b[38;5;241;43m.\u001b[39;49m\u001b[43m_tigergraph\u001b[49m\u001b[38;5;241;43m.\u001b[39;49m\u001b[43mgsql\u001b[49m\u001b[43m(\u001b[49m\u001b[38;5;28;43mself\u001b[39;49m\u001b[43m,\u001b[49m\u001b[43m \u001b[49m\u001b[43mquery\u001b[49m\u001b[43m,\u001b[49m\u001b[43m \u001b[49m\u001b[43mbindings\u001b[49m\u001b[43m,\u001b[49m\u001b[43m \u001b[49m\u001b[43mdry_run\u001b[49m\u001b[43m)\u001b[49m\n",
      "File \u001b[1;32mC:\\Projects\\osiris\\ext\\graphistry\\graphistry\\tigeristry.py:221\u001b[0m, in \u001b[0;36mTigeristry.gsql\u001b[1;34m(self, graphistry, query, bindings, dry_run)\u001b[0m\n\u001b[0;32m    211\u001b[0m     \u001b[38;5;28;01mreturn\u001b[39;00m url\n\u001b[0;32m    213\u001b[0m bindings \u001b[38;5;241m=\u001b[39m merge_dicts(\n\u001b[0;32m    214\u001b[0m     {\n\u001b[0;32m    215\u001b[0m       \u001b[38;5;124m'\u001b[39m\u001b[38;5;124medges\u001b[39m\u001b[38;5;124m'\u001b[39m: \u001b[38;5;124m'\u001b[39m\u001b[38;5;124m@@edgeList\u001b[39m\u001b[38;5;124m'\u001b[39m,\n\u001b[1;32m   (...)\u001b[0m\n\u001b[0;32m    218\u001b[0m     bindings\n\u001b[0;32m    219\u001b[0m )      \n\u001b[1;32m--> 221\u001b[0m \u001b[38;5;28;01mreturn\u001b[39;00m \u001b[38;5;28;43mself\u001b[39;49m\u001b[38;5;241;43m.\u001b[39;49m\u001b[43m__json_to_graphistry\u001b[49m\u001b[43m(\u001b[49m\u001b[43mgraphistry\u001b[49m\u001b[43m,\u001b[49m\u001b[43m \u001b[49m\u001b[43mjson\u001b[49m\u001b[43m,\u001b[49m\u001b[43m \u001b[49m\u001b[43mbindings\u001b[49m\u001b[43m)\u001b[49m\n",
      "File \u001b[1;32mC:\\Projects\\osiris\\ext\\graphistry\\graphistry\\tigeristry.py:164\u001b[0m, in \u001b[0;36mTigeristry.__json_to_graphistry\u001b[1;34m(self, graphistry, json, bindings)\u001b[0m\n\u001b[0;32m    155\u001b[0m     to_types \u001b[38;5;241m=\u001b[39m nodes_df\u001b[38;5;241m.\u001b[39mmerge(edges_df[[\u001b[38;5;124m'\u001b[39m\u001b[38;5;124mto_id\u001b[39m\u001b[38;5;124m'\u001b[39m, \u001b[38;5;124m'\u001b[39m\u001b[38;5;124mto_type\u001b[39m\u001b[38;5;124m'\u001b[39m]]\u001b[38;5;241m.\u001b[39mrename(columns\u001b[38;5;241m=\u001b[39m{\u001b[38;5;124m'\u001b[39m\u001b[38;5;124mto_id\u001b[39m\u001b[38;5;124m'\u001b[39m: \u001b[38;5;124m'\u001b[39m\u001b[38;5;124mnode_id\u001b[39m\u001b[38;5;124m'\u001b[39m, \u001b[38;5;124m'\u001b[39m\u001b[38;5;124mto_type\u001b[39m\u001b[38;5;124m'\u001b[39m: \u001b[38;5;124m'\u001b[39m\u001b[38;5;124mtype\u001b[39m\u001b[38;5;124m'\u001b[39m}), on\u001b[38;5;241m=\u001b[39m\u001b[38;5;124m'\u001b[39m\u001b[38;5;124mnode_id\u001b[39m\u001b[38;5;124m'\u001b[39m, how\u001b[38;5;241m=\u001b[39m\u001b[38;5;124m'\u001b[39m\u001b[38;5;124mleft\u001b[39m\u001b[38;5;124m'\u001b[39m)\n\u001b[0;32m    156\u001b[0m     nodes_df \u001b[38;5;241m=\u001b[39m nodes_df\u001b[38;5;241m.\u001b[39mmerge(\n\u001b[0;32m    157\u001b[0m         pd\u001b[38;5;241m.\u001b[39mDataFrame(\n\u001b[0;32m    158\u001b[0m             {\u001b[38;5;124m'\u001b[39m\u001b[38;5;124mtype\u001b[39m\u001b[38;5;124m'\u001b[39m: \n\u001b[1;32m   (...)\u001b[0m\n\u001b[0;32m    162\u001b[0m                     axis\u001b[38;5;241m=\u001b[39m\u001b[38;5;241m1\u001b[39m)}),\n\u001b[0;32m    163\u001b[0m         left_index\u001b[38;5;241m=\u001b[39m\u001b[38;5;28;01mTrue\u001b[39;00m, right_index\u001b[38;5;241m=\u001b[39m\u001b[38;5;28;01mTrue\u001b[39;00m)              \n\u001b[1;32m--> 164\u001b[0m g \u001b[38;5;241m=\u001b[39m \u001b[43mg\u001b[49m\u001b[38;5;241;43m.\u001b[39;49m\u001b[43mbind\u001b[49m(node\u001b[38;5;241m=\u001b[39m\u001b[38;5;124m'\u001b[39m\u001b[38;5;124mnode_id\u001b[39m\u001b[38;5;124m'\u001b[39m)\u001b[38;5;241m.\u001b[39mnodes(nodes_df)\n\u001b[0;32m    165\u001b[0m \u001b[38;5;28;01mreturn\u001b[39;00m g\n",
      "\u001b[1;31mAttributeError\u001b[0m: 'NoneType' object has no attribute 'bind'"
     ]
    }
   ],
   "source": [
    "g3 = g.gsql(\"\"\"\n",
    "  INTERPRET QUERY () FOR GRAPH GDELT_Events { \n",
    "   ListAccum<EDGE> @edgeList;\n",
    "  actors = \n",
    "    select s from Actor:s-(Acted>:a)-Event:t\n",
    "    where t.event_date > \"2022-01-01\"\n",
    "    accum s.@edgeList += a\n",
    "    limit 100;\n",
    "  print actors[actors.@edgeList];\n",
    "  }\n",
    "    \"\"\", \n",
    "  {'nodes':'actors', 'edges': 'actors.attributes.@edgeList'}\n",
    ")       \n",
    "g3.plot()\n",
    "\n",
    "#g3.plot()"
   ]
  },
  {
   "cell_type": "code",
   "execution_count": null,
   "metadata": {},
   "outputs": [],
   "source": []
  }
 ],
 "metadata": {
  "kernelspec": {
   "display_name": "Python 3 (ipykernel)",
   "language": "python",
   "name": "python3"
  },
  "language_info": {
   "codemirror_mode": {
    "name": "ipython",
    "version": 3
   },
   "file_extension": ".py",
   "mimetype": "text/x-python",
   "name": "python",
   "nbconvert_exporter": "python",
   "pygments_lexer": "ipython3",
   "version": "3.9.0"
  }
 },
 "nbformat": 4,
 "nbformat_minor": 2
}
