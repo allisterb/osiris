{
 "cells": [
  {
   "cell_type": "markdown",
   "metadata": {},
   "source": [
    "## Connect"
   ]
  },
  {
   "cell_type": "code",
   "execution_count": 2,
   "metadata": {},
   "outputs": [],
   "source": [
    "import os, sys\n",
    "sys.path.append(os.path.join('..', 'osiris'))\n",
    "sys.path.append(os.path.join('..', 'ext'))\n",
    "import osiris_global\n",
    "osiris_global.set_runtime_env(interactive_nb=True)"
   ]
  },
  {
   "cell_type": "code",
   "execution_count": null,
   "metadata": {},
   "outputs": [],
   "source": []
  },
  {
   "cell_type": "code",
   "execution_count": 3,
   "metadata": {},
   "outputs": [
    {
     "data": {
      "application/vnd.jupyter.widget-view+json": {
       "model_id": "",
       "version_major": 2,
       "version_minor": 0
      },
      "text/plain": [
       "Fetch event mentions table data:   0%|          | 0/3 [00:00<?, ?batch/s]"
      ]
     },
     "metadata": {},
     "output_type": "display_data"
    },
    {
     "data": {
      "text/html": [
       "<div>\n",
       "<style scoped>\n",
       "    .dataframe tbody tr th:only-of-type {\n",
       "        vertical-align: middle;\n",
       "    }\n",
       "\n",
       "    .dataframe tbody tr th {\n",
       "        vertical-align: top;\n",
       "    }\n",
       "\n",
       "    .dataframe thead th {\n",
       "        text-align: right;\n",
       "    }\n",
       "</style>\n",
       "<table border=\"1\" class=\"dataframe\">\n",
       "  <thead>\n",
       "    <tr style=\"text-align: right;\">\n",
       "      <th></th>\n",
       "      <th>ID</th>\n",
       "      <th>EventID</th>\n",
       "      <th>MentionDate</th>\n",
       "      <th>MentionType</th>\n",
       "      <th>Source</th>\n",
       "      <th>Confidence</th>\n",
       "      <th>Tone</th>\n",
       "    </tr>\n",
       "  </thead>\n",
       "  <tbody>\n",
       "    <tr>\n",
       "      <th>0</th>\n",
       "      <td>https://menafn.com/1104084008/JK-Presenting-Ne...</td>\n",
       "      <td>1040948256</td>\n",
       "      <td>2022-04-24</td>\n",
       "      <td>1</td>\n",
       "      <td>menafn.com</td>\n",
       "      <td>90</td>\n",
       "      <td>1.085142</td>\n",
       "    </tr>\n",
       "    <tr>\n",
       "      <th>1</th>\n",
       "      <td>https://www.iol.co.za/mercury/news/police-shoo...</td>\n",
       "      <td>1021543133</td>\n",
       "      <td>2022-01-02</td>\n",
       "      <td>1</td>\n",
       "      <td>iol.co.za</td>\n",
       "      <td>90</td>\n",
       "      <td>-6.666667</td>\n",
       "    </tr>\n",
       "    <tr>\n",
       "      <th>2</th>\n",
       "      <td>https://lufkindailynews.com/anpa/us/article_6b...</td>\n",
       "      <td>1040889389</td>\n",
       "      <td>2022-04-24</td>\n",
       "      <td>1</td>\n",
       "      <td>lufkindailynews.com</td>\n",
       "      <td>90</td>\n",
       "      <td>-5.767138</td>\n",
       "    </tr>\n",
       "    <tr>\n",
       "      <th>3</th>\n",
       "      <td>https://www.news-gazette.com/opinion/columns/j...</td>\n",
       "      <td>1021536869</td>\n",
       "      <td>2022-01-02</td>\n",
       "      <td>1</td>\n",
       "      <td>news-gazette.com</td>\n",
       "      <td>90</td>\n",
       "      <td>0.769231</td>\n",
       "    </tr>\n",
       "    <tr>\n",
       "      <th>4</th>\n",
       "      <td>https://www.strategic-culture.org/news/2022/01...</td>\n",
       "      <td>1021569241</td>\n",
       "      <td>2022-01-02</td>\n",
       "      <td>1</td>\n",
       "      <td>strategic-culture.org</td>\n",
       "      <td>90</td>\n",
       "      <td>-0.730391</td>\n",
       "    </tr>\n",
       "    <tr>\n",
       "      <th>...</th>\n",
       "      <td>...</td>\n",
       "      <td>...</td>\n",
       "      <td>...</td>\n",
       "      <td>...</td>\n",
       "      <td>...</td>\n",
       "      <td>...</td>\n",
       "      <td>...</td>\n",
       "    </tr>\n",
       "    <tr>\n",
       "      <th>9995</th>\n",
       "      <td>https://www.antaranews.com/berita/2641197/kelu...</td>\n",
       "      <td>1023051780</td>\n",
       "      <td>2022-01-13</td>\n",
       "      <td>1</td>\n",
       "      <td>antaranews.com</td>\n",
       "      <td>80</td>\n",
       "      <td>-4.976303</td>\n",
       "    </tr>\n",
       "    <tr>\n",
       "      <th>9996</th>\n",
       "      <td>https://www.nbcwashington.com/news/local/17-ye...</td>\n",
       "      <td>1022993821</td>\n",
       "      <td>2022-01-13</td>\n",
       "      <td>1</td>\n",
       "      <td>nbcwashington.com</td>\n",
       "      <td>80</td>\n",
       "      <td>-2.040816</td>\n",
       "    </tr>\n",
       "    <tr>\n",
       "      <th>9997</th>\n",
       "      <td>https://www.europesun.com/news/272166751/right...</td>\n",
       "      <td>1023096941</td>\n",
       "      <td>2022-01-13</td>\n",
       "      <td>1</td>\n",
       "      <td>europesun.com</td>\n",
       "      <td>80</td>\n",
       "      <td>-8.214850</td>\n",
       "    </tr>\n",
       "    <tr>\n",
       "      <th>9998</th>\n",
       "      <td>https://www.rtbf.be/auvio/detail_inondations-6...</td>\n",
       "      <td>1023074887</td>\n",
       "      <td>2022-01-13</td>\n",
       "      <td>1</td>\n",
       "      <td>rtbf.be</td>\n",
       "      <td>80</td>\n",
       "      <td>-0.961538</td>\n",
       "    </tr>\n",
       "    <tr>\n",
       "      <th>9999</th>\n",
       "      <td>https://rancherita.com.mx/noticias/detalles/11...</td>\n",
       "      <td>1022992712</td>\n",
       "      <td>2022-01-13</td>\n",
       "      <td>1</td>\n",
       "      <td>rancherita.com.mx</td>\n",
       "      <td>80</td>\n",
       "      <td>0.185185</td>\n",
       "    </tr>\n",
       "  </tbody>\n",
       "</table>\n",
       "<p>30000 rows × 7 columns</p>\n",
       "</div>"
      ],
      "text/plain": [
       "                                                     ID     EventID  \\\n",
       "0     https://menafn.com/1104084008/JK-Presenting-Ne...  1040948256   \n",
       "1     https://www.iol.co.za/mercury/news/police-shoo...  1021543133   \n",
       "2     https://lufkindailynews.com/anpa/us/article_6b...  1040889389   \n",
       "3     https://www.news-gazette.com/opinion/columns/j...  1021536869   \n",
       "4     https://www.strategic-culture.org/news/2022/01...  1021569241   \n",
       "...                                                 ...         ...   \n",
       "9995  https://www.antaranews.com/berita/2641197/kelu...  1023051780   \n",
       "9996  https://www.nbcwashington.com/news/local/17-ye...  1022993821   \n",
       "9997  https://www.europesun.com/news/272166751/right...  1023096941   \n",
       "9998  https://www.rtbf.be/auvio/detail_inondations-6...  1023074887   \n",
       "9999  https://rancherita.com.mx/noticias/detalles/11...  1022992712   \n",
       "\n",
       "     MentionDate  MentionType                 Source  Confidence      Tone  \n",
       "0     2022-04-24            1             menafn.com          90  1.085142  \n",
       "1     2022-01-02            1              iol.co.za          90 -6.666667  \n",
       "2     2022-04-24            1    lufkindailynews.com          90 -5.767138  \n",
       "3     2022-01-02            1       news-gazette.com          90  0.769231  \n",
       "4     2022-01-02            1  strategic-culture.org          90 -0.730391  \n",
       "...          ...          ...                    ...         ...       ...  \n",
       "9995  2022-01-13            1         antaranews.com          80 -4.976303  \n",
       "9996  2022-01-13            1      nbcwashington.com          80 -2.040816  \n",
       "9997  2022-01-13            1          europesun.com          80 -8.214850  \n",
       "9998  2022-01-13            1                rtbf.be          80 -0.961538  \n",
       "9999  2022-01-13            1      rancherita.com.mx          80  0.185185  \n",
       "\n",
       "[30000 rows x 7 columns]"
      ]
     },
     "execution_count": 3,
     "metadata": {},
     "output_type": "execute_result"
    }
   ],
   "source": [
    "from data.tables import events, actors, mentions, query\n",
    "eve = mentions('2022-01-01', maxrows=30000)\n",
    "eve"
   ]
  },
  {
   "cell_type": "code",
   "execution_count": 3,
   "metadata": {},
   "outputs": [
    {
     "data": {
      "application/vnd.jupyter.widget-view+json": {
       "model_id": "eccfe45ce8744a1e81361c5361400e57",
       "version_major": 2,
       "version_minor": 0
      },
      "text/plain": [
       "Fetch query data:   0%|          | 0/5 [00:00<?, ?batch/s]"
      ]
     },
     "metadata": {},
     "output_type": "display_data"
    },
    {
     "data": {
      "text/html": [
       "<div>\n",
       "<style scoped>\n",
       "    .dataframe tbody tr th:only-of-type {\n",
       "        vertical-align: middle;\n",
       "    }\n",
       "\n",
       "    .dataframe tbody tr th {\n",
       "        vertical-align: top;\n",
       "    }\n",
       "\n",
       "    .dataframe thead th {\n",
       "        text-align: right;\n",
       "    }\n",
       "</style>\n",
       "<table border=\"1\" class=\"dataframe\">\n",
       "  <thead>\n",
       "    <tr style=\"text-align: right;\">\n",
       "      <th></th>\n",
       "      <th>ID</th>\n",
       "      <th>CAMEOCode</th>\n",
       "      <th>Geo_Lat</th>\n",
       "      <th>Geo_Long</th>\n",
       "    </tr>\n",
       "  </thead>\n",
       "  <tbody>\n",
       "    <tr>\n",
       "      <th>0</th>\n",
       "      <td>1024310578</td>\n",
       "      <td>0241</td>\n",
       "      <td>37.00000</td>\n",
       "      <td>127.5000</td>\n",
       "    </tr>\n",
       "    <tr>\n",
       "      <th>1</th>\n",
       "      <td>1038525737</td>\n",
       "      <td>1056</td>\n",
       "      <td>32.00000</td>\n",
       "      <td>53.0000</td>\n",
       "    </tr>\n",
       "    <tr>\n",
       "      <th>2</th>\n",
       "      <td>1021492947</td>\n",
       "      <td>152</td>\n",
       "      <td>23.83640</td>\n",
       "      <td>91.2750</td>\n",
       "    </tr>\n",
       "    <tr>\n",
       "      <th>3</th>\n",
       "      <td>1036062520</td>\n",
       "      <td>063</td>\n",
       "      <td>50.92160</td>\n",
       "      <td>34.8003</td>\n",
       "    </tr>\n",
       "    <tr>\n",
       "      <th>4</th>\n",
       "      <td>1033389645</td>\n",
       "      <td>101</td>\n",
       "      <td>30.44000</td>\n",
       "      <td>72.3543</td>\n",
       "    </tr>\n",
       "    <tr>\n",
       "      <th>...</th>\n",
       "      <td>...</td>\n",
       "      <td>...</td>\n",
       "      <td>...</td>\n",
       "      <td>...</td>\n",
       "    </tr>\n",
       "    <tr>\n",
       "      <th>9995</th>\n",
       "      <td>1037426911</td>\n",
       "      <td>1822</td>\n",
       "      <td>46.00000</td>\n",
       "      <td>25.0000</td>\n",
       "    </tr>\n",
       "    <tr>\n",
       "      <th>9996</th>\n",
       "      <td>1024937908</td>\n",
       "      <td>1822</td>\n",
       "      <td>-17.78330</td>\n",
       "      <td>25.1667</td>\n",
       "    </tr>\n",
       "    <tr>\n",
       "      <th>9997</th>\n",
       "      <td>1036537258</td>\n",
       "      <td>1822</td>\n",
       "      <td>46.84890</td>\n",
       "      <td>35.3653</td>\n",
       "    </tr>\n",
       "    <tr>\n",
       "      <th>9998</th>\n",
       "      <td>1031425168</td>\n",
       "      <td>1822</td>\n",
       "      <td>3.71810</td>\n",
       "      <td>98.2202</td>\n",
       "    </tr>\n",
       "    <tr>\n",
       "      <th>9999</th>\n",
       "      <td>1039120079</td>\n",
       "      <td>1822</td>\n",
       "      <td>7.53333</td>\n",
       "      <td>4.0500</td>\n",
       "    </tr>\n",
       "  </tbody>\n",
       "</table>\n",
       "<p>50000 rows × 4 columns</p>\n",
       "</div>"
      ],
      "text/plain": [
       "              ID CAMEOCode   Geo_Lat  Geo_Long\n",
       "0     1024310578      0241  37.00000  127.5000\n",
       "1     1038525737      1056  32.00000   53.0000\n",
       "2     1021492947       152  23.83640   91.2750\n",
       "3     1036062520       063  50.92160   34.8003\n",
       "4     1033389645       101  30.44000   72.3543\n",
       "...          ...       ...       ...       ...\n",
       "9995  1037426911      1822  46.00000   25.0000\n",
       "9996  1024937908      1822 -17.78330   25.1667\n",
       "9997  1036537258      1822  46.84890   35.3653\n",
       "9998  1031425168      1822   3.71810   98.2202\n",
       "9999  1039120079      1822   7.53333    4.0500\n",
       "\n",
       "[50000 rows x 4 columns]"
      ]
     },
     "execution_count": 3,
     "metadata": {},
     "output_type": "execute_result"
    }
   ],
   "source": [
    "loc = query(\"SELECT ev.ID, ev.CAMEOCode, ev.Geo_Lat, ev.Geo_Long FROM osiris-347701.gdelt_snapshots.events_actions_20220000_20220421 ev LIMIT 50000\")\n",
    "loc"
   ]
  },
  {
   "cell_type": "code",
   "execution_count": 4,
   "metadata": {},
   "outputs": [
    {
     "name": "stdout",
     "output_type": "stream",
     "text": [
      "                                                     ID     EventID  \\\n",
      "0     https://menafn.com/1104084008/JK-Presenting-Ne...  1040948256   \n",
      "1     https://www.iol.co.za/mercury/news/police-shoo...  1021543133   \n",
      "2     https://lufkindailynews.com/anpa/us/article_6b...  1040889389   \n",
      "3     https://www.news-gazette.com/opinion/columns/j...  1021536869   \n",
      "4     https://www.strategic-culture.org/news/2022/01...  1021569241   \n",
      "...                                                 ...         ...   \n",
      "9995  https://www.antaranews.com/berita/2641197/kelu...  1023051780   \n",
      "9996  https://www.nbcwashington.com/news/local/17-ye...  1022993821   \n",
      "9997  https://www.europesun.com/news/272166751/right...  1023096941   \n",
      "9998  https://www.rtbf.be/auvio/detail_inondations-6...  1023074887   \n",
      "9999  https://rancherita.com.mx/noticias/detalles/11...  1022992712   \n",
      "\n",
      "     MentionDate  MentionType                 Source  Confidence      Tone  \n",
      "0     2022-04-24            1             menafn.com          90  1.085142  \n",
      "1     2022-01-02            1              iol.co.za          90 -6.666667  \n",
      "2     2022-04-24            1    lufkindailynews.com          90 -5.767138  \n",
      "3     2022-01-02            1       news-gazette.com          90  0.769231  \n",
      "4     2022-01-02            1  strategic-culture.org          90 -0.730391  \n",
      "...          ...          ...                    ...         ...       ...  \n",
      "9995  2022-01-13            1         antaranews.com          80 -4.976303  \n",
      "9996  2022-01-13            1      nbcwashington.com          80 -2.040816  \n",
      "9997  2022-01-13            1          europesun.com          80 -8.214850  \n",
      "9998  2022-01-13            1                rtbf.be          80 -0.961538  \n",
      "9999  2022-01-13            1      rancherita.com.mx          80  0.185185  \n",
      "\n",
      "[30000 rows x 7 columns]\n"
     ]
    }
   ],
   "source": [
    "print(eve)"
   ]
  },
  {
   "cell_type": "code",
   "execution_count": 7,
   "metadata": {
    "scrolled": true
   },
   "outputs": [
    {
     "data": {
      "text/html": [
       "<div style=\"width:100%;\"><div style=\"position:relative;width:100%;height:0;padding-bottom:60%;\"><span style=\"color:#565656\">Make this Notebook Trusted to load map: File -> Trust Notebook</span><iframe srcdoc=\"&lt;!DOCTYPE html&gt;\n",
       "&lt;head&gt;    \n",
       "    &lt;meta http-equiv=&quot;content-type&quot; content=&quot;text/html; charset=UTF-8&quot; /&gt;\n",
       "    \n",
       "        &lt;script&gt;\n",
       "            L_NO_TOUCH = false;\n",
       "            L_DISABLE_3D = false;\n",
       "        &lt;/script&gt;\n",
       "    \n",
       "    &lt;style&gt;html, body {width: 100%;height: 100%;margin: 0;padding: 0;}&lt;/style&gt;\n",
       "    &lt;style&gt;#map {position:absolute;top:0;bottom:0;right:0;left:0;}&lt;/style&gt;\n",
       "    &lt;script src=&quot;https://cdn.jsdelivr.net/npm/leaflet@1.6.0/dist/leaflet.js&quot;&gt;&lt;/script&gt;\n",
       "    &lt;script src=&quot;https://code.jquery.com/jquery-1.12.4.min.js&quot;&gt;&lt;/script&gt;\n",
       "    &lt;script src=&quot;https://maxcdn.bootstrapcdn.com/bootstrap/3.2.0/js/bootstrap.min.js&quot;&gt;&lt;/script&gt;\n",
       "    &lt;script src=&quot;https://cdnjs.cloudflare.com/ajax/libs/Leaflet.awesome-markers/2.0.2/leaflet.awesome-markers.js&quot;&gt;&lt;/script&gt;\n",
       "    &lt;link rel=&quot;stylesheet&quot; href=&quot;https://cdn.jsdelivr.net/npm/leaflet@1.6.0/dist/leaflet.css&quot;/&gt;\n",
       "    &lt;link rel=&quot;stylesheet&quot; href=&quot;https://maxcdn.bootstrapcdn.com/bootstrap/3.2.0/css/bootstrap.min.css&quot;/&gt;\n",
       "    &lt;link rel=&quot;stylesheet&quot; href=&quot;https://maxcdn.bootstrapcdn.com/bootstrap/3.2.0/css/bootstrap-theme.min.css&quot;/&gt;\n",
       "    &lt;link rel=&quot;stylesheet&quot; href=&quot;https://maxcdn.bootstrapcdn.com/font-awesome/4.6.3/css/font-awesome.min.css&quot;/&gt;\n",
       "    &lt;link rel=&quot;stylesheet&quot; href=&quot;https://cdnjs.cloudflare.com/ajax/libs/Leaflet.awesome-markers/2.0.2/leaflet.awesome-markers.css&quot;/&gt;\n",
       "    &lt;link rel=&quot;stylesheet&quot; href=&quot;https://cdn.jsdelivr.net/gh/python-visualization/folium/folium/templates/leaflet.awesome.rotate.min.css&quot;/&gt;\n",
       "    \n",
       "            &lt;meta name=&quot;viewport&quot; content=&quot;width=device-width,\n",
       "                initial-scale=1.0, maximum-scale=1.0, user-scalable=no&quot; /&gt;\n",
       "            &lt;style&gt;\n",
       "                #map_de0138d8a5ed82a90964f46266a4fa09 {\n",
       "                    position: relative;\n",
       "                    width: 100.0%;\n",
       "                    height: 100.0%;\n",
       "                    left: 0.0%;\n",
       "                    top: 0.0%;\n",
       "                }\n",
       "            &lt;/style&gt;\n",
       "        \n",
       "&lt;/head&gt;\n",
       "&lt;body&gt;    \n",
       "    \n",
       "            &lt;div class=&quot;folium-map&quot; id=&quot;map_de0138d8a5ed82a90964f46266a4fa09&quot; &gt;&lt;/div&gt;\n",
       "        \n",
       "&lt;/body&gt;\n",
       "&lt;script&gt;    \n",
       "    \n",
       "            var map_de0138d8a5ed82a90964f46266a4fa09 = L.map(\n",
       "                &quot;map_de0138d8a5ed82a90964f46266a4fa09&quot;,\n",
       "                {\n",
       "                    center: [48.0, 31.0],\n",
       "                    crs: L.CRS.EPSG3857,\n",
       "                    zoom: 6,\n",
       "                    zoomControl: true,\n",
       "                    preferCanvas: false,\n",
       "                }\n",
       "            );\n",
       "\n",
       "            \n",
       "\n",
       "        \n",
       "    \n",
       "            var tile_layer_70c8f4f6c2a6e528a2408af2d10c1f45 = L.tileLayer(\n",
       "                &quot;https://cartodb-basemaps-{s}.global.ssl.fastly.net/light_all/{z}/{x}/{y}.png&quot;,\n",
       "                {&quot;attribution&quot;: &quot;\\u0026copy; \\u003ca href=\\&quot;http://www.openstreetmap.org/copyright\\&quot;\\u003eOpenStreetMap\\u003c/a\\u003e contributors \\u0026copy; \\u003ca href=\\&quot;http://cartodb.com/attributions\\&quot;\\u003eCartoDB\\u003c/a\\u003e, CartoDB \\u003ca href =\\&quot;http://cartodb.com/attributions\\&quot;\\u003eattributions\\u003c/a\\u003e&quot;, &quot;detectRetina&quot;: false, &quot;maxNativeZoom&quot;: 18, &quot;maxZoom&quot;: 18, &quot;minZoom&quot;: 0, &quot;noWrap&quot;: false, &quot;opacity&quot;: 1, &quot;subdomains&quot;: &quot;abc&quot;, &quot;tms&quot;: false}\n",
       "            ).addTo(map_de0138d8a5ed82a90964f46266a4fa09);\n",
       "        \n",
       "&lt;/script&gt;\" style=\"position:absolute;width:100%;height:100%;left:0;top:0;border:none !important;\" allowfullscreen webkitallowfullscreen mozallowfullscreen></iframe></div></div>"
      ],
      "text/plain": [
       "<folium.folium.Map at 0x1f768fc84f0>"
      ]
     },
     "execution_count": 7,
     "metadata": {},
     "output_type": "execute_result"
    }
   ],
   "source": [
    "import folium\n",
    "map_osm = folium.Map(\n",
    "    location=[48., 31.], \n",
    "    tiles=\"cartodbpositron\",\n",
    "    zoom_start=\n",
    ")\n",
    "map_osm"
   ]
  },
  {
   "cell_type": "code",
   "execution_count": 3,
   "metadata": {},
   "outputs": [],
   "source": [
    "import os, sys\n",
    "from graphistry import graphistry\n",
    "#graphistry.register(api=3, username=os.environ['GRAPHISTRY_USER'], password=os.environ['GRAPHISTRY_PASS'], protocol='https', server='hub.graphistry.com')"
   ]
  },
  {
   "cell_type": "code",
   "execution_count": 4,
   "metadata": {},
   "outputs": [
    {
     "name": "stdout",
     "output_type": "stream",
     "text": [
      "No authorization token specified for REST++ requests.\n"
     ]
    }
   ],
   "source": [
    "g = graphistry.tigergraph(\n",
    "    protocol='https', server='osiris-dev2.i.tgcloud.io',\n",
    "    user=os.environ['OSIRIS_GRAPH_SERVER_USER'], pwd=os.environ['OSIRIS_GRAPH_SERVER_PASS'], \n",
    "    db='GDELT_Events'\n",
    ")"
   ]
  },
  {
   "cell_type": "markdown",
   "metadata": {},
   "source": [
    "## Query and Visualize"
   ]
  },
  {
   "cell_type": "code",
   "execution_count": 5,
   "metadata": {
    "scrolled": true
   },
   "outputs": [
    {
     "name": "stdout",
     "output_type": "stream",
     "text": [
      "Edges: [].\n"
     ]
    },
    {
     "ename": "AttributeError",
     "evalue": "'NoneType' object has no attribute 'bind'",
     "output_type": "error",
     "traceback": [
      "\u001b[1;31m---------------------------------------------------------------------------\u001b[0m",
      "\u001b[1;31mAttributeError\u001b[0m                            Traceback (most recent call last)",
      "Input \u001b[1;32mIn [5]\u001b[0m, in \u001b[0;36m<cell line: 1>\u001b[1;34m()\u001b[0m\n\u001b[1;32m----> 1\u001b[0m g3 \u001b[38;5;241m=\u001b[39m \u001b[43mg\u001b[49m\u001b[38;5;241;43m.\u001b[39;49m\u001b[43mgsql\u001b[49m\u001b[43m(\u001b[49m\u001b[38;5;124;43m\"\"\"\u001b[39;49m\n\u001b[0;32m      2\u001b[0m \u001b[38;5;124;43m  INTERPRET QUERY () FOR GRAPH GDELT_Events \u001b[39;49m\u001b[38;5;124;43m{\u001b[39;49m\u001b[38;5;124;43m \u001b[39;49m\n\u001b[0;32m      3\u001b[0m \u001b[38;5;124;43m   ListAccum<EDGE> @edgeList;\u001b[39;49m\n\u001b[0;32m      4\u001b[0m \u001b[38;5;124;43m  actors = \u001b[39;49m\n\u001b[0;32m      5\u001b[0m \u001b[38;5;124;43m    select s from Actor:s-(Acted>:a)-Event:t\u001b[39;49m\n\u001b[0;32m      6\u001b[0m \u001b[38;5;124;43m    where t.event_date > \u001b[39;49m\u001b[38;5;124;43m\"\u001b[39;49m\u001b[38;5;124;43m2022-01-01\u001b[39;49m\u001b[38;5;124;43m\"\u001b[39;49m\n\u001b[0;32m      7\u001b[0m \u001b[38;5;124;43m    accum s.@edgeList += a\u001b[39;49m\n\u001b[0;32m      8\u001b[0m \u001b[38;5;124;43m    limit 100;\u001b[39;49m\n\u001b[0;32m      9\u001b[0m \u001b[38;5;124;43m  print actors[actors.@edgeList];\u001b[39;49m\n\u001b[0;32m     10\u001b[0m \u001b[38;5;124;43m  }\u001b[39;49m\n\u001b[0;32m     11\u001b[0m \u001b[38;5;124;43m    \u001b[39;49m\u001b[38;5;124;43m\"\"\"\u001b[39;49m\u001b[43m,\u001b[49m\u001b[43m \u001b[49m\n\u001b[0;32m     12\u001b[0m \u001b[43m  \u001b[49m\u001b[43m{\u001b[49m\u001b[38;5;124;43m'\u001b[39;49m\u001b[38;5;124;43mnodes\u001b[39;49m\u001b[38;5;124;43m'\u001b[39;49m\u001b[43m:\u001b[49m\u001b[38;5;124;43m'\u001b[39;49m\u001b[38;5;124;43mactors\u001b[39;49m\u001b[38;5;124;43m'\u001b[39;49m\u001b[43m,\u001b[49m\u001b[43m \u001b[49m\u001b[38;5;124;43m'\u001b[39;49m\u001b[38;5;124;43medges\u001b[39;49m\u001b[38;5;124;43m'\u001b[39;49m\u001b[43m:\u001b[49m\u001b[43m \u001b[49m\u001b[38;5;124;43m'\u001b[39;49m\u001b[38;5;124;43mactors.attributes.@edgeList\u001b[39;49m\u001b[38;5;124;43m'\u001b[39;49m\u001b[43m}\u001b[49m\n\u001b[0;32m     13\u001b[0m \u001b[43m)\u001b[49m       \n\u001b[0;32m     14\u001b[0m g3\u001b[38;5;241m.\u001b[39mplot()\n",
      "File \u001b[1;32mC:\\Projects\\osiris\\ext\\graphistry\\graphistry\\PlotterBase.py:2117\u001b[0m, in \u001b[0;36mPlotterBase.gsql\u001b[1;34m(self, query, bindings, dry_run)\u001b[0m\n\u001b[0;32m   2049\u001b[0m \u001b[38;5;28;01mdef\u001b[39;00m \u001b[38;5;21mgsql\u001b[39m(\u001b[38;5;28mself\u001b[39m, query, bindings \u001b[38;5;241m=\u001b[39m {}, dry_run \u001b[38;5;241m=\u001b[39m \u001b[38;5;28;01mFalse\u001b[39;00m):\n\u001b[0;32m   2050\u001b[0m     \u001b[38;5;124;03m\"\"\"Run Tigergraph query in interpreted mode and return transformed Plottable\u001b[39;00m\n\u001b[0;32m   2051\u001b[0m \u001b[38;5;124;03m\u001b[39;00m\n\u001b[0;32m   2052\u001b[0m \u001b[38;5;124;03m    :param query: Code to run\u001b[39;00m\n\u001b[1;32m   (...)\u001b[0m\n\u001b[0;32m   2115\u001b[0m \u001b[38;5;124;03m                \\\"\\\"\\\", {'edges': 'my_edge_list'}).plot()\u001b[39;00m\n\u001b[0;32m   2116\u001b[0m \u001b[38;5;124;03m    \"\"\"\u001b[39;00m        \n\u001b[1;32m-> 2117\u001b[0m     \u001b[38;5;28;01mreturn\u001b[39;00m \u001b[38;5;28;43mself\u001b[39;49m\u001b[38;5;241;43m.\u001b[39;49m\u001b[43m_tigergraph\u001b[49m\u001b[38;5;241;43m.\u001b[39;49m\u001b[43mgsql\u001b[49m\u001b[43m(\u001b[49m\u001b[38;5;28;43mself\u001b[39;49m\u001b[43m,\u001b[49m\u001b[43m \u001b[49m\u001b[43mquery\u001b[49m\u001b[43m,\u001b[49m\u001b[43m \u001b[49m\u001b[43mbindings\u001b[49m\u001b[43m,\u001b[49m\u001b[43m \u001b[49m\u001b[43mdry_run\u001b[49m\u001b[43m)\u001b[49m\n",
      "File \u001b[1;32mC:\\Projects\\osiris\\ext\\graphistry\\graphistry\\tigeristry.py:221\u001b[0m, in \u001b[0;36mTigeristry.gsql\u001b[1;34m(self, graphistry, query, bindings, dry_run)\u001b[0m\n\u001b[0;32m    211\u001b[0m     \u001b[38;5;28;01mreturn\u001b[39;00m url\n\u001b[0;32m    213\u001b[0m bindings \u001b[38;5;241m=\u001b[39m merge_dicts(\n\u001b[0;32m    214\u001b[0m     {\n\u001b[0;32m    215\u001b[0m       \u001b[38;5;124m'\u001b[39m\u001b[38;5;124medges\u001b[39m\u001b[38;5;124m'\u001b[39m: \u001b[38;5;124m'\u001b[39m\u001b[38;5;124m@@edgeList\u001b[39m\u001b[38;5;124m'\u001b[39m,\n\u001b[1;32m   (...)\u001b[0m\n\u001b[0;32m    218\u001b[0m     bindings\n\u001b[0;32m    219\u001b[0m )      \n\u001b[1;32m--> 221\u001b[0m \u001b[38;5;28;01mreturn\u001b[39;00m \u001b[38;5;28;43mself\u001b[39;49m\u001b[38;5;241;43m.\u001b[39;49m\u001b[43m__json_to_graphistry\u001b[49m\u001b[43m(\u001b[49m\u001b[43mgraphistry\u001b[49m\u001b[43m,\u001b[49m\u001b[43m \u001b[49m\u001b[43mjson\u001b[49m\u001b[43m,\u001b[49m\u001b[43m \u001b[49m\u001b[43mbindings\u001b[49m\u001b[43m)\u001b[49m\n",
      "File \u001b[1;32mC:\\Projects\\osiris\\ext\\graphistry\\graphistry\\tigeristry.py:164\u001b[0m, in \u001b[0;36mTigeristry.__json_to_graphistry\u001b[1;34m(self, graphistry, json, bindings)\u001b[0m\n\u001b[0;32m    155\u001b[0m     to_types \u001b[38;5;241m=\u001b[39m nodes_df\u001b[38;5;241m.\u001b[39mmerge(edges_df[[\u001b[38;5;124m'\u001b[39m\u001b[38;5;124mto_id\u001b[39m\u001b[38;5;124m'\u001b[39m, \u001b[38;5;124m'\u001b[39m\u001b[38;5;124mto_type\u001b[39m\u001b[38;5;124m'\u001b[39m]]\u001b[38;5;241m.\u001b[39mrename(columns\u001b[38;5;241m=\u001b[39m{\u001b[38;5;124m'\u001b[39m\u001b[38;5;124mto_id\u001b[39m\u001b[38;5;124m'\u001b[39m: \u001b[38;5;124m'\u001b[39m\u001b[38;5;124mnode_id\u001b[39m\u001b[38;5;124m'\u001b[39m, \u001b[38;5;124m'\u001b[39m\u001b[38;5;124mto_type\u001b[39m\u001b[38;5;124m'\u001b[39m: \u001b[38;5;124m'\u001b[39m\u001b[38;5;124mtype\u001b[39m\u001b[38;5;124m'\u001b[39m}), on\u001b[38;5;241m=\u001b[39m\u001b[38;5;124m'\u001b[39m\u001b[38;5;124mnode_id\u001b[39m\u001b[38;5;124m'\u001b[39m, how\u001b[38;5;241m=\u001b[39m\u001b[38;5;124m'\u001b[39m\u001b[38;5;124mleft\u001b[39m\u001b[38;5;124m'\u001b[39m)\n\u001b[0;32m    156\u001b[0m     nodes_df \u001b[38;5;241m=\u001b[39m nodes_df\u001b[38;5;241m.\u001b[39mmerge(\n\u001b[0;32m    157\u001b[0m         pd\u001b[38;5;241m.\u001b[39mDataFrame(\n\u001b[0;32m    158\u001b[0m             {\u001b[38;5;124m'\u001b[39m\u001b[38;5;124mtype\u001b[39m\u001b[38;5;124m'\u001b[39m: \n\u001b[1;32m   (...)\u001b[0m\n\u001b[0;32m    162\u001b[0m                     axis\u001b[38;5;241m=\u001b[39m\u001b[38;5;241m1\u001b[39m)}),\n\u001b[0;32m    163\u001b[0m         left_index\u001b[38;5;241m=\u001b[39m\u001b[38;5;28;01mTrue\u001b[39;00m, right_index\u001b[38;5;241m=\u001b[39m\u001b[38;5;28;01mTrue\u001b[39;00m)              \n\u001b[1;32m--> 164\u001b[0m g \u001b[38;5;241m=\u001b[39m \u001b[43mg\u001b[49m\u001b[38;5;241;43m.\u001b[39;49m\u001b[43mbind\u001b[49m(node\u001b[38;5;241m=\u001b[39m\u001b[38;5;124m'\u001b[39m\u001b[38;5;124mnode_id\u001b[39m\u001b[38;5;124m'\u001b[39m)\u001b[38;5;241m.\u001b[39mnodes(nodes_df)\n\u001b[0;32m    165\u001b[0m \u001b[38;5;28;01mreturn\u001b[39;00m g\n",
      "\u001b[1;31mAttributeError\u001b[0m: 'NoneType' object has no attribute 'bind'"
     ]
    }
   ],
   "source": [
    "g3 = g.gsql(\"\"\"\n",
    "  INTERPRET QUERY () FOR GRAPH GDELT_Events { \n",
    "   ListAccum<EDGE> @edgeList;\n",
    "  actors = \n",
    "    select s from Actor:s-(Acted>:a)-Event:t\n",
    "    where t.event_date > \"2022-01-01\"\n",
    "    accum s.@edgeList += a\n",
    "    limit 100;\n",
    "  print actors[actors.@edgeList];\n",
    "  }\n",
    "    \"\"\", \n",
    "  {'nodes':'actors', 'edges': 'actors.attributes.@edgeList'}\n",
    ")       \n",
    "g3.plot()\n",
    "\n",
    "#g3.plot()"
   ]
  },
  {
   "cell_type": "code",
   "execution_count": null,
   "metadata": {},
   "outputs": [],
   "source": []
  }
 ],
 "metadata": {
  "kernelspec": {
   "display_name": "Python 3 (ipykernel)",
   "language": "python",
   "name": "python3"
  },
  "language_info": {
   "codemirror_mode": {
    "name": "ipython",
    "version": 3
   },
   "file_extension": ".py",
   "mimetype": "text/x-python",
   "name": "python",
   "nbconvert_exporter": "python",
   "pygments_lexer": "ipython3",
   "version": "3.9.0"
  }
 },
 "nbformat": 4,
 "nbformat_minor": 2
}
