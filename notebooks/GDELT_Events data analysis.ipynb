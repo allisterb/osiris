{
 "cells": [
  {
   "cell_type": "markdown",
   "metadata": {},
   "source": [
    "# Tigergraph Bindings: Demo of IT Infra Analysis\n",
    "\n",
    "Uses bindings built into PyGraphistry for Tigergraph:\n",
    "\n",
    "* Configure DB connection\n",
    "* Call dynamic endpoints for user-defined endpoints\n",
    "* Call interpreted-mode query\n",
    "* Visualize results"
   ]
  },
  {
   "cell_type": "markdown",
   "metadata": {},
   "source": [
    "## Import and connect"
   ]
  },
  {
   "cell_type": "code",
   "execution_count": 1,
   "metadata": {},
   "outputs": [],
   "source": [
    "import os, sys\n",
    "sys.path.append(os.path.join('..', 'ext'))\n",
    "sys.path.append(os.path.join('..', 'osiris'))\n",
    "import osiris_global\n",
    "from osiris_global import set_log_level\n",
    "set_log_level(debug = True)"
   ]
  },
  {
   "cell_type": "code",
   "execution_count": 6,
   "metadata": {},
   "outputs": [
    {
     "name": "stdout",
     "output_type": "stream",
     "text": [
      "Starting new HTTPS connection (1): hub.graphistry.com:443\n",
      "https://hub.graphistry.com:443 \"POST /api-token-auth/ HTTP/1.1\" 201 551\n",
      "JWT refresh via creds\n",
      "Starting new HTTPS connection (1): hub.graphistry.com:443\n",
      "https://hub.graphistry.com:443 \"POST /api-token-auth/ HTTP/1.1\" 201 551\n"
     ]
    }
   ],
   "source": [
    "import os, sys\n",
    "from graphistry import graphistry\n",
    "graphistry.register(api=3, username=os.environ['GRAPHISTRY_USER'], password=os.environ['GRAPHISTRY_PASS'], protocol='https', server='hub.graphistry.com')"
   ]
  },
  {
   "cell_type": "code",
   "execution_count": 11,
   "metadata": {},
   "outputs": [
    {
     "name": "stdout",
     "output_type": "stream",
     "text": [
      "REST++ api token is n3hxxx\n"
     ]
    }
   ],
   "source": [
    "g = graphistry.tigergraph(\n",
    "    protocol='https', server='osiris0.i.tgcloud.io',\n",
    "    user='tigergraph', pwd=os.environ['OSIRIS_GRAPH_SERVER_PASS'], \n",
    "    api_token=os.environ['OSIRIS_GRAPH_SERVER_TOKEN'],\n",
    "    db='GDELT_Events'\n",
    ")"
   ]
  },
  {
   "cell_type": "markdown",
   "metadata": {},
   "source": [
    "## Dynamic user-defined GSQL endpoints: Call, analyze, & plot"
   ]
  },
  {
   "cell_type": "code",
   "execution_count": 5,
   "metadata": {},
   "outputs": [
    {
     "name": "stdout",
     "output_type": "stream",
     "text": [
      "REST++ api token is f0pxxx\n",
      "Starting new HTTPS connection (1): osiris0.i.tgcloud.io:9000\n",
      "https://osiris0.i.tgcloud.io:9000 \"GET /query/GDELT_Events/simple HTTP/1.1\" 404 218\n"
     ]
    },
    {
     "ename": "Exception",
     "evalue": "('Database returned error', 'Endpoint is not found from url = /query/GDELT_Events/simple, please use GET /endpoints to list all valid endpoints.')",
     "output_type": "error",
     "traceback": [
      "\u001b[1;31m---------------------------------------------------------------------------\u001b[0m",
      "\u001b[1;31mException\u001b[0m                                 Traceback (most recent call last)",
      "\u001b[1;32m~\\AppData\\Local\\Temp\\ipykernel_14896\\2051936221.py\u001b[0m in \u001b[0;36m<module>\u001b[1;34m\u001b[0m\n\u001b[0;32m      1\u001b[0m g2 = g.gsql_endpoint(\n\u001b[1;32m----> 2\u001b[1;33m     \u001b[1;34m'simple'\u001b[0m\u001b[1;33m\u001b[0m\u001b[1;33m\u001b[0m\u001b[0m\n\u001b[0m\u001b[0;32m      3\u001b[0m     \u001b[1;31m#{'edges': '@@edgeList', 'nodes': '@@nodeList'}\u001b[0m\u001b[1;33m\u001b[0m\u001b[1;33m\u001b[0m\u001b[1;33m\u001b[0m\u001b[0m\n\u001b[0;32m      4\u001b[0m )\n\u001b[0;32m      5\u001b[0m \u001b[1;33m\u001b[0m\u001b[0m\n",
      "\u001b[1;32mC:\\Projects\\osiris\\ext\\graphistry\\graphistry\\PlotterBase.py\u001b[0m in \u001b[0;36mgsql_endpoint\u001b[1;34m(self, method_name, args, bindings, db, dry_run)\u001b[0m\n\u001b[0;32m   2044\u001b[0m \u001b[1;33m\u001b[0m\u001b[0m\n\u001b[0;32m   2045\u001b[0m         \"\"\"\n\u001b[1;32m-> 2046\u001b[1;33m         \u001b[1;32mreturn\u001b[0m \u001b[0mself\u001b[0m\u001b[1;33m.\u001b[0m\u001b[0m_tigergraph\u001b[0m\u001b[1;33m.\u001b[0m\u001b[0mgsql_endpoint\u001b[0m\u001b[1;33m(\u001b[0m\u001b[0mself\u001b[0m\u001b[1;33m,\u001b[0m \u001b[0mmethod_name\u001b[0m\u001b[1;33m,\u001b[0m \u001b[0margs\u001b[0m\u001b[1;33m,\u001b[0m \u001b[0mbindings\u001b[0m\u001b[1;33m,\u001b[0m \u001b[0mdb\u001b[0m\u001b[1;33m,\u001b[0m \u001b[0mdry_run\u001b[0m\u001b[1;33m)\u001b[0m\u001b[1;33m\u001b[0m\u001b[1;33m\u001b[0m\u001b[0m\n\u001b[0m\u001b[0;32m   2047\u001b[0m \u001b[1;33m\u001b[0m\u001b[0m\n\u001b[0;32m   2048\u001b[0m     \u001b[1;32mdef\u001b[0m \u001b[0mgsql\u001b[0m\u001b[1;33m(\u001b[0m\u001b[0mself\u001b[0m\u001b[1;33m,\u001b[0m \u001b[0mquery\u001b[0m\u001b[1;33m,\u001b[0m \u001b[0mbindings\u001b[0m \u001b[1;33m=\u001b[0m \u001b[1;33m{\u001b[0m\u001b[1;33m}\u001b[0m\u001b[1;33m,\u001b[0m \u001b[0mdry_run\u001b[0m \u001b[1;33m=\u001b[0m \u001b[1;32mFalse\u001b[0m\u001b[1;33m)\u001b[0m\u001b[1;33m:\u001b[0m\u001b[1;33m\u001b[0m\u001b[1;33m\u001b[0m\u001b[0m\n",
      "\u001b[1;32mC:\\Projects\\osiris\\ext\\graphistry\\graphistry\\tigeristry.py\u001b[0m in \u001b[0;36mgsql_endpoint\u001b[1;34m(self, graphistry, method_name, args, bindings, db, dry_run)\u001b[0m\n\u001b[0;32m    182\u001b[0m         \u001b[0mself\u001b[0m\u001b[1;33m.\u001b[0m\u001b[0m__check_initialized\u001b[0m\u001b[1;33m(\u001b[0m\u001b[0mgraphistry\u001b[0m\u001b[1;33m)\u001b[0m\u001b[1;33m\u001b[0m\u001b[1;33m\u001b[0m\u001b[0m\n\u001b[0;32m    183\u001b[0m \u001b[1;33m\u001b[0m\u001b[0m\n\u001b[1;32m--> 184\u001b[1;33m         \u001b[0mjson\u001b[0m \u001b[1;33m=\u001b[0m \u001b[0mself\u001b[0m\u001b[1;33m.\u001b[0m\u001b[0m__gsql_endpoint\u001b[0m\u001b[1;33m(\u001b[0m\u001b[0mmethod_name\u001b[0m\u001b[1;33m,\u001b[0m \u001b[0margs\u001b[0m\u001b[1;33m,\u001b[0m \u001b[0mdb\u001b[0m\u001b[1;33m,\u001b[0m \u001b[0mdry_run\u001b[0m\u001b[1;33m)\u001b[0m\u001b[1;33m\u001b[0m\u001b[1;33m\u001b[0m\u001b[0m\n\u001b[0m\u001b[0;32m    185\u001b[0m \u001b[1;33m\u001b[0m\u001b[0m\n\u001b[0;32m    186\u001b[0m         \u001b[1;32mif\u001b[0m \u001b[0mdry_run\u001b[0m\u001b[1;33m:\u001b[0m\u001b[1;33m\u001b[0m\u001b[1;33m\u001b[0m\u001b[0m\n",
      "\u001b[1;32mC:\\Projects\\osiris\\ext\\graphistry\\graphistry\\tigeristry.py\u001b[0m in \u001b[0;36m__gsql_endpoint\u001b[1;34m(self, method_name, args, db, dry_run)\u001b[0m\n\u001b[0;32m    117\u001b[0m         \u001b[0mjson\u001b[0m \u001b[1;33m=\u001b[0m \u001b[0mresp\u001b[0m\u001b[1;33m.\u001b[0m\u001b[0mjson\u001b[0m\u001b[1;33m(\u001b[0m\u001b[1;33m)\u001b[0m\u001b[1;33m\u001b[0m\u001b[1;33m\u001b[0m\u001b[0m\n\u001b[0;32m    118\u001b[0m \u001b[1;33m\u001b[0m\u001b[0m\n\u001b[1;32m--> 119\u001b[1;33m         \u001b[1;32mreturn\u001b[0m \u001b[0mself\u001b[0m\u001b[1;33m.\u001b[0m\u001b[0m__verify_and_unwrap_json_result\u001b[0m\u001b[1;33m(\u001b[0m\u001b[0mjson\u001b[0m\u001b[1;33m)\u001b[0m\u001b[1;33m\u001b[0m\u001b[1;33m\u001b[0m\u001b[0m\n\u001b[0m\u001b[0;32m    120\u001b[0m \u001b[1;33m\u001b[0m\u001b[0m\n\u001b[0;32m    121\u001b[0m \u001b[1;33m\u001b[0m\u001b[0m\n",
      "\u001b[1;32mC:\\Projects\\osiris\\ext\\graphistry\\graphistry\\tigeristry.py\u001b[0m in \u001b[0;36m__verify_and_unwrap_json_result\u001b[1;34m(self, json)\u001b[0m\n\u001b[0;32m     84\u001b[0m             \u001b[1;32mraise\u001b[0m \u001b[0mException\u001b[0m\u001b[1;33m(\u001b[0m\u001b[1;34m\"Unexpected response format, no validity indicator\"\u001b[0m\u001b[1;33m,\u001b[0m \u001b[0mjson\u001b[0m\u001b[1;33m)\u001b[0m\u001b[1;33m\u001b[0m\u001b[1;33m\u001b[0m\u001b[0m\n\u001b[0;32m     85\u001b[0m         \u001b[1;32melif\u001b[0m \u001b[0mjson\u001b[0m\u001b[1;33m[\u001b[0m\u001b[1;34m'error'\u001b[0m\u001b[1;33m]\u001b[0m\u001b[1;33m:\u001b[0m\u001b[1;33m\u001b[0m\u001b[1;33m\u001b[0m\u001b[0m\n\u001b[1;32m---> 86\u001b[1;33m             \u001b[1;32mraise\u001b[0m \u001b[0mException\u001b[0m\u001b[1;33m(\u001b[0m\u001b[1;34m\"Database returned error\"\u001b[0m\u001b[1;33m,\u001b[0m \u001b[0mjson\u001b[0m\u001b[1;33m[\u001b[0m\u001b[1;34m'message'\u001b[0m\u001b[1;33m]\u001b[0m \u001b[1;32mif\u001b[0m \u001b[1;34m'message'\u001b[0m \u001b[1;32min\u001b[0m \u001b[0mjson\u001b[0m \u001b[1;32melse\u001b[0m \u001b[1;34m'No message'\u001b[0m\u001b[1;33m)\u001b[0m\u001b[1;33m\u001b[0m\u001b[1;33m\u001b[0m\u001b[0m\n\u001b[0m\u001b[0;32m     87\u001b[0m         \u001b[1;32melif\u001b[0m \u001b[1;32mnot\u001b[0m \u001b[1;33m(\u001b[0m\u001b[1;34m'results'\u001b[0m \u001b[1;32min\u001b[0m \u001b[0mjson\u001b[0m\u001b[1;33m)\u001b[0m\u001b[1;33m:\u001b[0m\u001b[1;33m\u001b[0m\u001b[1;33m\u001b[0m\u001b[0m\n\u001b[0;32m     88\u001b[0m             \u001b[1;32mraise\u001b[0m \u001b[0mException\u001b[0m\u001b[1;33m(\u001b[0m\u001b[1;34m\"No field results in database response\"\u001b[0m\u001b[1;33m)\u001b[0m\u001b[1;33m\u001b[0m\u001b[1;33m\u001b[0m\u001b[0m\n",
      "\u001b[1;31mException\u001b[0m: ('Database returned error', 'Endpoint is not found from url = /query/GDELT_Events/simple, please use GET /endpoints to list all valid endpoints.')"
     ]
    }
   ],
   "source": [
    "g2 = g.gsql_endpoint(\n",
    "    'simple'\n",
    "    #{'edges': '@@edgeList', 'nodes': '@@nodeList'}\n",
    ")\n",
    "\n",
    "print(g2)\n",
    "\n",
    "#g2.plot()"
   ]
  },
  {
   "cell_type": "markdown",
   "metadata": {},
   "source": [
    "## On-the-fly GSQL interpreted queries: Call, analyze, & plot"
   ]
  },
  {
   "cell_type": "code",
   "execution_count": 12,
   "metadata": {},
   "outputs": [
    {
     "name": "stdout",
     "output_type": "stream",
     "text": [
      "Starting new HTTPS connection (1): osiris0.i.tgcloud.io:14240\n",
      "https://osiris0.i.tgcloud.io:14240 \"POST /gsqlserver/interpreted_query HTTP/1.1\" 200 None\n",
      "{'bindings': {'edges':             e_type     from_id from_type                         to_id  \\\n",
      "  0    Action_Target  1021420607     Event  iu+wbEJuB6CmcaHiSItIWNaUpzA=   \n",
      "  1    Action_Target  1021420562     Event  kW7bkalpGU+LAA49ilhB7VFB7Bg=   \n",
      "  2    Action_Target  1021420535     Event  dH4LdNCEjdHfFPhrYA8AtZeO+V8=   \n",
      "  3    Action_Target  1021420081     Event  iu+wbEJuB6CmcaHiSItIWNaUpzA=   \n",
      "  4    Action_Target  1021419905     Event  Gw24mjBF2mC3N91GOxLpVRJocZQ=   \n",
      "  ..             ...         ...       ...                           ...   \n",
      "  995  Action_Target  1021420395     Event  iu+wbEJuB6CmcaHiSItIWNaUpzA=   \n",
      "  996  Action_Target  1021420447     Event  iu+wbEJuB6CmcaHiSItIWNaUpzA=   \n",
      "  997  Action_Target  1021420579     Event  QA88F8vBrUdaPnAZBfV5ytNGYO8=   \n",
      "  998  Action_Target  1021419878     Event  dQNjc43vG7Rq+4+XpWsnUDSXNbk=   \n",
      "  999  Action_Target  1021420490     Event  iu+wbEJuB6CmcaHiSItIWNaUpzA=   \n",
      "  \n",
      "      to_type  directed           event_date  \n",
      "  0    Actor2      True  2022-01-01 00:00:00  \n",
      "  1    Actor2      True  2022-01-01 00:00:00  \n",
      "  2    Actor2      True  2022-01-01 00:00:00  \n",
      "  3    Actor2      True  2022-01-01 00:00:00  \n",
      "  4    Actor2      True  2022-01-01 00:00:00  \n",
      "  ..      ...       ...                  ...  \n",
      "  995  Actor2      True  2022-01-01 00:00:00  \n",
      "  996  Actor2      True  2022-01-01 00:00:00  \n",
      "  997  Actor2      True  2022-01-01 00:00:00  \n",
      "  998  Actor2      True  2022-01-01 00:00:00  \n",
      "  999  Actor2      True  2022-01-01 00:00:00  \n",
      "  \n",
      "  [1000 rows x 7 columns],\n",
      "  'nodes':                            node_id    type\n",
      "  0                       1021420607   Event\n",
      "  1                       1021420562   Event\n",
      "  2                       1021420535   Event\n",
      "  3                       1021420081   Event\n",
      "  4                       1021419905   Event\n",
      "  ...                            ...     ...\n",
      "  1433  ZMyDKEb/BiCQGlA5eepsS5uCjoA=  Actor2\n",
      "  1434  iHZf2GbSHHw7Fvl8g2W6YxxVJrk=  Actor2\n",
      "  1435  vDu5bwvQhM/oPWJaWNlJ3duGZEk=  Actor2\n",
      "  1436  8ZM30FQ3TcNOI92DR61WcOcY4UY=  Actor2\n",
      "  1437  t27ZRnrCf+Ct1xluVYVUVCapfv0=  Actor2\n",
      "  \n",
      "  [1438 rows x 2 columns],\n",
      "  'source': 'from_id',\n",
      "  'destination': 'to_id',\n",
      "  'node': 'node_id',\n",
      "  'edge_label': None,\n",
      "  'edge_color': None,\n",
      "  'edge_size': None,\n",
      "  'edge_weight': None,\n",
      "  'edge_title': None,\n",
      "  'edge_icon': None,\n",
      "  'edge_opacity': None,\n",
      "  'edge_source_color': None,\n",
      "  'edge_destination_color': None,\n",
      "  'point_label': None,\n",
      "  'point_color': None,\n",
      "  'point_size': None,\n",
      "  'point_weight': None,\n",
      "  'point_title': None,\n",
      "  'point_icon': None,\n",
      "  'point_opacity': None,\n",
      "  'point_x': None,\n",
      "  'point_y': None},\n",
      " 'settings': {'height': 500, 'url_params': {'info': 'true'}}}\n",
      "JWT refresh via creds\n",
      "Starting new HTTPS connection (1): hub.graphistry.com:443\n",
      "https://hub.graphistry.com:443 \"POST /api-token-auth/ HTTP/1.1\" 201 551\n",
      "_make_dataset (mode arrow, memoize True) name:[Untitled C57803EBMV] des:[] (e::<class 'pandas.core.frame.DataFrame'>, n::<class 'pandas.core.frame.DataFrame'>) \n",
      "_table_to_arrow of <class 'pandas.core.frame.DataFrame'> (memoize: True)\n",
      "pd->arrow memoization miss for id (of 4): cddec20f4cb1273056da6037262bd49aa06197ea31dfc667333c1ef98b3d4e702eeb54c9bb990eecbda7ec48f4b0d412687cb4df0252ba4868ae7b4d355ef957\n",
      "_table_to_arrow of <class 'pandas.core.frame.DataFrame'> (memoize: True)\n",
      "pd->arrow memoization miss for id (of 5): 7eb981e6cef58cb0eb3f537c2c56f4d729de6947d76fd602ac1eda869213833bcb12d59ef8196ed700822af97b9286d9889c0fca1621b8d4717008ff75524004\n",
      "bindings: {'source': 'from_id', 'destination': 'to_id'}\n",
      "bindings: {'node': 'node_id', 'node_title': 'node_id'}\n",
      "Starting new HTTPS connection (1): hub.graphistry.com:443\n",
      "https://hub.graphistry.com:443 \"POST /api/v2/upload/datasets/ HTTP/1.1\" 201 101\n",
      "Starting new HTTPS connection (1): hub.graphistry.com:443\n",
      "https://hub.graphistry.com:443 \"POST /api/v2/upload/datasets/3d1b06c7ff434dcfb886b8ee7d7df266/edges/arrow HTTP/1.1\" 201 308\n",
      "Starting new HTTPS connection (1): hub.graphistry.com:443\n",
      "https://hub.graphistry.com:443 \"POST /api/v2/upload/datasets/3d1b06c7ff434dcfb886b8ee7d7df266/nodes/arrow HTTP/1.1\" 201 201\n",
      "Privacy: global (None), local (None)\n"
     ]
    },
    {
     "data": {
      "text/html": [
       "\n",
       "            <iframe id=\"cf80c20f-8c71-411a-a4fd-1cf5fdfad542\" src=\"https://hub.graphistry.com/graph/graph.html?dataset=3d1b06c7ff434dcfb886b8ee7d7df266&type=arrow&viztoken=f4f02fb3-f45e-4fbb-ae02-5f7be64afc7f&usertag=919a5cb8-pygraphistry-0.23.1+4.ge0e9c42.dirty&splashAfter=1650550906&info=true\"\n",
       "                    allowfullscreen=\"true\" webkitallowfullscreen=\"true\" mozallowfullscreen=\"true\"\n",
       "                    oallowfullscreen=\"true\" msallowfullscreen=\"true\"\n",
       "                    style=\"width:100%; height:500px; border: 1px solid #DDD; overflow: hidden\"\n",
       "                    \n",
       "            >\n",
       "            </iframe>\n",
       "        \n",
       "            <script>\n",
       "                try {\n",
       "                  $(\"#cf80c20f-8c71-411a-a4fd-1cf5fdfad542\").bind('mousewheel', function(e) { e.preventDefault(); });\n",
       "                } catch (e) { console.error('exn catching scroll', e); }\n",
       "            </script>\n",
       "        "
      ],
      "text/plain": [
       "<IPython.core.display.HTML object>"
      ]
     },
     "execution_count": 12,
     "metadata": {},
     "output_type": "execute_result"
    }
   ],
   "source": [
    "g3 = g.gsql(\"\"\"\n",
    "  INTERPRET QUERY () FOR GRAPH GDELT_Events { \n",
    "  ListAccum<EDGE> @@edgeList;\n",
    "  events = \n",
    "    select e from Event:e-(Action_Target>:t)-Actor2:p\n",
    "    accum @@edgeList += t;\n",
    "  print @@edgeList;\n",
    "  }\n",
    "    \"\"\", \n",
    "  {'edges': '@@edgeList', 'nodes': 'events'}\n",
    ")       \n",
    "print(g3)\n",
    "g3.plot()\n",
    "\n",
    "#g3.plot()"
   ]
  },
  {
   "cell_type": "code",
   "execution_count": null,
   "metadata": {},
   "outputs": [],
   "source": []
  }
 ],
 "metadata": {
  "kernelspec": {
   "display_name": "Python 3 (ipykernel)",
   "language": "python",
   "name": "python3"
  },
  "language_info": {
   "codemirror_mode": {
    "name": "ipython",
    "version": 3
   },
   "file_extension": ".py",
   "mimetype": "text/x-python",
   "name": "python",
   "nbconvert_exporter": "python",
   "pygments_lexer": "ipython3",
   "version": "3.7.9"
  }
 },
 "nbformat": 4,
 "nbformat_minor": 2
}
