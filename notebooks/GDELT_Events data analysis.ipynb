{
 "cells": [
  {
   "cell_type": "markdown",
   "metadata": {},
   "source": [
    "# Tigergraph Bindings: Demo of IT Infra Analysis\n",
    "\n",
    "Uses bindings built into PyGraphistry for Tigergraph:\n",
    "\n",
    "* Configure DB connection\n",
    "* Call dynamic endpoints for user-defined endpoints\n",
    "* Call interpreted-mode query\n",
    "* Visualize results"
   ]
  },
  {
   "cell_type": "markdown",
   "metadata": {},
   "source": [
    "## Import and connect"
   ]
  },
  {
   "cell_type": "code",
   "execution_count": 4,
   "metadata": {},
   "outputs": [],
   "source": [
    "import os, sys\n",
    "sys.path.append(os.path.join('..', 'ext'))\n",
    "sys.path.append(os.path.join('..', 'osiris'))\n",
    "import osiris_global\n",
    "from osiris_global import set_log_level\n",
    "set_log_level(debug = True)"
   ]
  },
  {
   "cell_type": "code",
   "execution_count": 2,
   "metadata": {},
   "outputs": [
    {
     "name": "stdout",
     "output_type": "stream",
     "text": [
      "n3h17gagr289ag3tfjgj3ic9m6jmvddp\n"
     ]
    }
   ],
   "source": [
    "print(os.environ['OSIRIS_GRAPH_SERVER_TOKEN'])"
   ]
  },
  {
   "cell_type": "code",
   "execution_count": 5,
   "metadata": {},
   "outputs": [],
   "source": [
    "import os, sys\n",
    "from graphistry import graphistry\n",
    "#graphistry.register(api=3, username=os.environ['GRAPHISTRY_USER'], password=os.environ['GRAPHISTRY_PASS'], protocol='https', server='hub.graphistry.com')"
   ]
  },
  {
   "cell_type": "code",
   "execution_count": 6,
   "metadata": {},
   "outputs": [
    {
     "name": "stdout",
     "output_type": "stream",
     "text": [
      "REST++ api token is f0pxxx\n"
     ]
    }
   ],
   "source": [
    "g = graphistry.tigergraph(\n",
    "    protocol='https', server='osiris0.i.tgcloud.io',\n",
    "    user='tigergraph', pwd=os.environ['OSIRIS_GRAPH_SERVER_PASS'], \n",
    "    api_token='f0p74rgqcn1cfq459sk3nlinstf7khvq',\n",
    "    db='GDELT_Events'\n",
    ")"
   ]
  },
  {
   "cell_type": "markdown",
   "metadata": {},
   "source": [
    "## Dynamic user-defined GSQL endpoints: Call, analyze, & plot"
   ]
  },
  {
   "cell_type": "code",
   "execution_count": 5,
   "metadata": {},
   "outputs": [
    {
     "name": "stdout",
     "output_type": "stream",
     "text": [
      "REST++ api token is f0pxxx\n",
      "Starting new HTTPS connection (1): osiris0.i.tgcloud.io:9000\n",
      "https://osiris0.i.tgcloud.io:9000 \"GET /query/GDELT_Events/simple HTTP/1.1\" 401 155\n"
     ]
    },
    {
     "ename": "Exception",
     "evalue": "('Database returned error', \"Access Denied because the input token = '' is empty\")",
     "output_type": "error",
     "traceback": [
      "\u001b[1;31m---------------------------------------------------------------------------\u001b[0m",
      "\u001b[1;31mException\u001b[0m                                 Traceback (most recent call last)",
      "\u001b[1;32m~\\AppData\\Local\\Temp\\ipykernel_20584\\2051936221.py\u001b[0m in \u001b[0;36m<module>\u001b[1;34m\u001b[0m\n\u001b[0;32m      1\u001b[0m g2 = g.gsql_endpoint(\n\u001b[1;32m----> 2\u001b[1;33m     \u001b[1;34m'simple'\u001b[0m\u001b[1;33m\u001b[0m\u001b[1;33m\u001b[0m\u001b[0m\n\u001b[0m\u001b[0;32m      3\u001b[0m     \u001b[1;31m#{'edges': '@@edgeList', 'nodes': '@@nodeList'}\u001b[0m\u001b[1;33m\u001b[0m\u001b[1;33m\u001b[0m\u001b[1;33m\u001b[0m\u001b[0m\n\u001b[0;32m      4\u001b[0m )\n\u001b[0;32m      5\u001b[0m \u001b[1;33m\u001b[0m\u001b[0m\n",
      "\u001b[1;32mC:\\Projects\\osiris\\ext\\graphistry\\graphistry\\PlotterBase.py\u001b[0m in \u001b[0;36mgsql_endpoint\u001b[1;34m(self, method_name, args, bindings, db, dry_run)\u001b[0m\n\u001b[0;32m   2044\u001b[0m \u001b[1;33m\u001b[0m\u001b[0m\n\u001b[0;32m   2045\u001b[0m         \"\"\"\n\u001b[1;32m-> 2046\u001b[1;33m         \u001b[1;32mreturn\u001b[0m \u001b[0mself\u001b[0m\u001b[1;33m.\u001b[0m\u001b[0m_tigergraph\u001b[0m\u001b[1;33m.\u001b[0m\u001b[0mgsql_endpoint\u001b[0m\u001b[1;33m(\u001b[0m\u001b[0mself\u001b[0m\u001b[1;33m,\u001b[0m \u001b[0mmethod_name\u001b[0m\u001b[1;33m,\u001b[0m \u001b[0margs\u001b[0m\u001b[1;33m,\u001b[0m \u001b[0mbindings\u001b[0m\u001b[1;33m,\u001b[0m \u001b[0mdb\u001b[0m\u001b[1;33m,\u001b[0m \u001b[0mdry_run\u001b[0m\u001b[1;33m)\u001b[0m\u001b[1;33m\u001b[0m\u001b[1;33m\u001b[0m\u001b[0m\n\u001b[0m\u001b[0;32m   2047\u001b[0m \u001b[1;33m\u001b[0m\u001b[0m\n\u001b[0;32m   2048\u001b[0m     \u001b[1;32mdef\u001b[0m \u001b[0mgsql\u001b[0m\u001b[1;33m(\u001b[0m\u001b[0mself\u001b[0m\u001b[1;33m,\u001b[0m \u001b[0mquery\u001b[0m\u001b[1;33m,\u001b[0m \u001b[0mbindings\u001b[0m \u001b[1;33m=\u001b[0m \u001b[1;33m{\u001b[0m\u001b[1;33m}\u001b[0m\u001b[1;33m,\u001b[0m \u001b[0mdry_run\u001b[0m \u001b[1;33m=\u001b[0m \u001b[1;32mFalse\u001b[0m\u001b[1;33m)\u001b[0m\u001b[1;33m:\u001b[0m\u001b[1;33m\u001b[0m\u001b[1;33m\u001b[0m\u001b[0m\n",
      "\u001b[1;32mC:\\Projects\\osiris\\ext\\graphistry\\graphistry\\tigeristry.py\u001b[0m in \u001b[0;36mgsql_endpoint\u001b[1;34m(self, graphistry, method_name, args, bindings, db, dry_run)\u001b[0m\n\u001b[0;32m    180\u001b[0m         \u001b[0mself\u001b[0m\u001b[1;33m.\u001b[0m\u001b[0m__check_initialized\u001b[0m\u001b[1;33m(\u001b[0m\u001b[0mgraphistry\u001b[0m\u001b[1;33m)\u001b[0m\u001b[1;33m\u001b[0m\u001b[1;33m\u001b[0m\u001b[0m\n\u001b[0;32m    181\u001b[0m \u001b[1;33m\u001b[0m\u001b[0m\n\u001b[1;32m--> 182\u001b[1;33m         \u001b[0mjson\u001b[0m \u001b[1;33m=\u001b[0m \u001b[0mself\u001b[0m\u001b[1;33m.\u001b[0m\u001b[0m__gsql_endpoint\u001b[0m\u001b[1;33m(\u001b[0m\u001b[0mmethod_name\u001b[0m\u001b[1;33m,\u001b[0m \u001b[0margs\u001b[0m\u001b[1;33m,\u001b[0m \u001b[0mdb\u001b[0m\u001b[1;33m,\u001b[0m \u001b[0mdry_run\u001b[0m\u001b[1;33m)\u001b[0m\u001b[1;33m\u001b[0m\u001b[1;33m\u001b[0m\u001b[0m\n\u001b[0m\u001b[0;32m    183\u001b[0m \u001b[1;33m\u001b[0m\u001b[0m\n\u001b[0;32m    184\u001b[0m         \u001b[1;32mif\u001b[0m \u001b[0mdry_run\u001b[0m\u001b[1;33m:\u001b[0m\u001b[1;33m\u001b[0m\u001b[1;33m\u001b[0m\u001b[0m\n",
      "\u001b[1;32mC:\\Projects\\osiris\\ext\\graphistry\\graphistry\\tigeristry.py\u001b[0m in \u001b[0;36m__gsql_endpoint\u001b[1;34m(self, method_name, args, db, dry_run)\u001b[0m\n\u001b[0;32m    115\u001b[0m         \u001b[0mjson\u001b[0m \u001b[1;33m=\u001b[0m \u001b[0mresp\u001b[0m\u001b[1;33m.\u001b[0m\u001b[0mjson\u001b[0m\u001b[1;33m(\u001b[0m\u001b[1;33m)\u001b[0m\u001b[1;33m\u001b[0m\u001b[1;33m\u001b[0m\u001b[0m\n\u001b[0;32m    116\u001b[0m \u001b[1;33m\u001b[0m\u001b[0m\n\u001b[1;32m--> 117\u001b[1;33m         \u001b[1;32mreturn\u001b[0m \u001b[0mself\u001b[0m\u001b[1;33m.\u001b[0m\u001b[0m__verify_and_unwrap_json_result\u001b[0m\u001b[1;33m(\u001b[0m\u001b[0mjson\u001b[0m\u001b[1;33m)\u001b[0m\u001b[1;33m\u001b[0m\u001b[1;33m\u001b[0m\u001b[0m\n\u001b[0m\u001b[0;32m    118\u001b[0m \u001b[1;33m\u001b[0m\u001b[0m\n\u001b[0;32m    119\u001b[0m \u001b[1;33m\u001b[0m\u001b[0m\n",
      "\u001b[1;32mC:\\Projects\\osiris\\ext\\graphistry\\graphistry\\tigeristry.py\u001b[0m in \u001b[0;36m__verify_and_unwrap_json_result\u001b[1;34m(self, json)\u001b[0m\n\u001b[0;32m     82\u001b[0m             \u001b[1;32mraise\u001b[0m \u001b[0mException\u001b[0m\u001b[1;33m(\u001b[0m\u001b[1;34m\"Unexpected response format, no validity indicator\"\u001b[0m\u001b[1;33m,\u001b[0m \u001b[0mjson\u001b[0m\u001b[1;33m)\u001b[0m\u001b[1;33m\u001b[0m\u001b[1;33m\u001b[0m\u001b[0m\n\u001b[0;32m     83\u001b[0m         \u001b[1;32melif\u001b[0m \u001b[0mjson\u001b[0m\u001b[1;33m[\u001b[0m\u001b[1;34m'error'\u001b[0m\u001b[1;33m]\u001b[0m\u001b[1;33m:\u001b[0m\u001b[1;33m\u001b[0m\u001b[1;33m\u001b[0m\u001b[0m\n\u001b[1;32m---> 84\u001b[1;33m             \u001b[1;32mraise\u001b[0m \u001b[0mException\u001b[0m\u001b[1;33m(\u001b[0m\u001b[1;34m\"Database returned error\"\u001b[0m\u001b[1;33m,\u001b[0m \u001b[0mjson\u001b[0m\u001b[1;33m[\u001b[0m\u001b[1;34m'message'\u001b[0m\u001b[1;33m]\u001b[0m \u001b[1;32mif\u001b[0m \u001b[1;34m'message'\u001b[0m \u001b[1;32min\u001b[0m \u001b[0mjson\u001b[0m \u001b[1;32melse\u001b[0m \u001b[1;34m'No message'\u001b[0m\u001b[1;33m)\u001b[0m\u001b[1;33m\u001b[0m\u001b[1;33m\u001b[0m\u001b[0m\n\u001b[0m\u001b[0;32m     85\u001b[0m         \u001b[1;32melif\u001b[0m \u001b[1;32mnot\u001b[0m \u001b[1;33m(\u001b[0m\u001b[1;34m'results'\u001b[0m \u001b[1;32min\u001b[0m \u001b[0mjson\u001b[0m\u001b[1;33m)\u001b[0m\u001b[1;33m:\u001b[0m\u001b[1;33m\u001b[0m\u001b[1;33m\u001b[0m\u001b[0m\n\u001b[0;32m     86\u001b[0m             \u001b[1;32mraise\u001b[0m \u001b[0mException\u001b[0m\u001b[1;33m(\u001b[0m\u001b[1;34m\"No field results in database response\"\u001b[0m\u001b[1;33m)\u001b[0m\u001b[1;33m\u001b[0m\u001b[1;33m\u001b[0m\u001b[0m\n",
      "\u001b[1;31mException\u001b[0m: ('Database returned error', \"Access Denied because the input token = '' is empty\")"
     ]
    }
   ],
   "source": [
    "g2 = g.gsql_endpoint(\n",
    "    'simple'\n",
    "    #{'edges': '@@edgeList', 'nodes': '@@nodeList'}\n",
    ")\n",
    "\n",
    "print(g2)\n",
    "\n",
    "#g2.plot()"
   ]
  },
  {
   "cell_type": "markdown",
   "metadata": {},
   "source": [
    "## On-the-fly GSQL interpreted queries: Call, analyze, & plot"
   ]
  },
  {
   "cell_type": "code",
   "execution_count": 22,
   "metadata": {},
   "outputs": [
    {
     "name": "stdout",
     "output_type": "stream",
     "text": [
      "Starting new HTTPS connection (1): osiris0.i.tgcloud.io:14240\n",
      "https://osiris0.i.tgcloud.io:14240 \"POST /gsqlserver/interpreted_query HTTP/1.1\" 200 None\n",
      "{'bindings': {'edges': None,\n",
      "  'nodes':                            node_id    type\n",
      "  0                       1021420607   Event\n",
      "  1                       1021420562   Event\n",
      "  2                       1021420535   Event\n",
      "  3                       1021420081   Event\n",
      "  4                       1021419905   Event\n",
      "  ...                            ...     ...\n",
      "  1433  ZMyDKEb/BiCQGlA5eepsS5uCjoA=  Actor2\n",
      "  1434  iHZf2GbSHHw7Fvl8g2W6YxxVJrk=  Actor2\n",
      "  1435  vDu5bwvQhM/oPWJaWNlJ3duGZEk=  Actor2\n",
      "  1436  8ZM30FQ3TcNOI92DR61WcOcY4UY=  Actor2\n",
      "  1437  t27ZRnrCf+Ct1xluVYVUVCapfv0=  Actor2\n",
      "  \n",
      "  [1438 rows x 2 columns],\n",
      "  'source': None,\n",
      "  'destination': None,\n",
      "  'node': 'node_id',\n",
      "  'edge_label': None,\n",
      "  'edge_color': None,\n",
      "  'edge_size': None,\n",
      "  'edge_weight': None,\n",
      "  'edge_title': None,\n",
      "  'edge_icon': None,\n",
      "  'edge_opacity': None,\n",
      "  'edge_source_color': None,\n",
      "  'edge_destination_color': None,\n",
      "  'point_label': None,\n",
      "  'point_color': None,\n",
      "  'point_size': None,\n",
      "  'point_weight': None,\n",
      "  'point_title': None,\n",
      "  'point_icon': None,\n",
      "  'point_opacity': None,\n",
      "  'point_x': None,\n",
      "  'point_y': None},\n",
      " 'settings': {'height': 500, 'url_params': {'info': 'true'}}}\n"
     ]
    }
   ],
   "source": [
    "g3 = g.gsql(\"\"\"\n",
    "  INTERPRET QUERY () FOR GRAPH GDELT_Events { \n",
    "  ListAccum<EDGE> @@abs_edges;\n",
    "  events = \n",
    "    select e from Event:e-(Action_Target>:t)-Actor2:p\n",
    "    accum @@abs_edges += t\n",
    "    limit 100;\n",
    "  print @@abs_edges;\n",
    "  }\n",
    "    \"\"\", \n",
    "  {'nodes': 'events', 'edges':'@@abs_edges'} # can skip by default\n",
    ")       \n",
    "print(g3)\n",
    "#g3.plot()\n",
    "\n",
    "#g3.plot()"
   ]
  },
  {
   "cell_type": "code",
   "execution_count": null,
   "metadata": {},
   "outputs": [],
   "source": []
  }
 ],
 "metadata": {
  "kernelspec": {
   "display_name": "Python 3 (ipykernel)",
   "language": "python",
   "name": "python3"
  },
  "language_info": {
   "codemirror_mode": {
    "name": "ipython",
    "version": 3
   },
   "file_extension": ".py",
   "mimetype": "text/x-python",
   "name": "python",
   "nbconvert_exporter": "python",
   "pygments_lexer": "ipython3",
   "version": "3.7.9"
  }
 },
 "nbformat": 4,
 "nbformat_minor": 2
}
