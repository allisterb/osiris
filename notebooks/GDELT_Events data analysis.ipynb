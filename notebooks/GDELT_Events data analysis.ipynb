{
 "cells": [
  {
   "cell_type": "markdown",
   "metadata": {},
   "source": [
    "## Import and connect"
   ]
  },
  {
   "cell_type": "code",
   "execution_count": 19,
   "metadata": {},
   "outputs": [],
   "source": [
    "import os, sys\n",
    "sys.path.append(os.path.join('..', 'osiris'))\n",
    "import osiris_global\n",
    "from osiris_global import set_log_level\n",
    "set_log_level(debug = True)"
   ]
  },
  {
   "cell_type": "code",
   "execution_count": 20,
   "metadata": {},
   "outputs": [
    {
     "name": "stdout",
     "output_type": "stream",
     "text": [
      "Starting new HTTPS connection (1): hub.graphistry.com:443\n",
      "https://hub.graphistry.com:443 \"POST /api-token-auth/ HTTP/1.1\" 201 551\n",
      "JWT refresh via creds\n",
      "Starting new HTTPS connection (1): hub.graphistry.com:443\n",
      "https://hub.graphistry.com:443 \"POST /api-token-auth/ HTTP/1.1\" 201 551\n"
     ]
    }
   ],
   "source": [
    "import os, sys\n",
    "import graphistry\n",
    "graphistry.register(api=3, username=os.environ['GRAPHISTRY_USER'], password=os.environ['GRAPHISTRY_PASS'], protocol='https', server='hub.graphistry.com')"
   ]
  },
  {
   "cell_type": "code",
   "execution_count": 21,
   "metadata": {},
   "outputs": [],
   "source": [
    "g = graphistry.tigergraph(\n",
    "    protocol='https', server='osiris0.i.tgcloud.io',\n",
    "    user='tigergraph', pwd=os.environ['OSIRIS_GRAPH_SERVER_PASS'], \n",
    "    db='GDELT_Events'\n",
    ")"
   ]
  },
  {
   "cell_type": "markdown",
   "metadata": {},
   "source": [
    "## Query and Visualize"
   ]
  },
  {
   "cell_type": "code",
   "execution_count": 22,
   "metadata": {},
   "outputs": [
    {
     "name": "stdout",
     "output_type": "stream",
     "text": [
      "Starting new HTTPS connection (1): osiris0.i.tgcloud.io:14240\n",
      "https://osiris0.i.tgcloud.io:14240 \"POST /gsqlserver/interpreted_query HTTP/1.1\" 200 None\n",
      "JWT refresh via creds\n",
      "Starting new HTTPS connection (1): hub.graphistry.com:443\n"
     ]
    },
    {
     "name": "stderr",
     "output_type": "stream",
     "text": [
      "c:\\python\\venv\\osiris\\lib\\site-packages\\graphistry\\tigeristry.py:135: FutureWarning: The series.append method is deprecated and will be removed from pandas in a future version. Use pandas.concat instead.\n",
      "  nodes_df = pd.DataFrame({'node_id': edges_df['from_id'].append(edges_df['to_id'])}) \\\n"
     ]
    },
    {
     "name": "stdout",
     "output_type": "stream",
     "text": [
      "https://hub.graphistry.com:443 \"POST /api-token-auth/ HTTP/1.1\" 201 551\n",
      "_make_dataset (mode arrow, memoize True) name:[Untitled 4RE8PS3KCN] des:[] (e::<class 'pandas.core.frame.DataFrame'>, n::<class 'pandas.core.frame.DataFrame'>) \n",
      "_table_to_arrow of <class 'pandas.core.frame.DataFrame'> (memoize: True)\n",
      "pd->arrow memoization miss for id (of 4): 72e99417cafca2da246b5d0278a42af2ab4dc5b1506f0047a6bfd1655e35e53b40a9684fcb273a6225a2b95a17df2b5dfdca2f1c8f5a7ce3b32348b3cd31d461\n",
      "_table_to_arrow of <class 'pandas.core.frame.DataFrame'> (memoize: True)\n",
      "pd->arrow memoization miss for id (of 5): 14004b56335f049ed3d767217cbb1fbcae0abdf189c3281b516b90e139ff05b0cb12d59ef8196ed700822af97b9286d9889c0fca1621b8d4717008ff75524004\n",
      "bindings: {'source': 'from_id', 'destination': 'to_id'}\n",
      "bindings: {'node': 'node_id', 'node_title': 'node_id'}\n",
      "Starting new HTTPS connection (1): hub.graphistry.com:443\n",
      "https://hub.graphistry.com:443 \"POST /api/v2/upload/datasets/ HTTP/1.1\" 201 101\n",
      "Starting new HTTPS connection (1): hub.graphistry.com:443\n",
      "https://hub.graphistry.com:443 \"POST /api/v2/upload/datasets/45581473c8fe4dfbad656afa62959d02/edges/arrow HTTP/1.1\" 201 333\n",
      "Starting new HTTPS connection (1): hub.graphistry.com:443\n",
      "https://hub.graphistry.com:443 \"POST /api/v2/upload/datasets/45581473c8fe4dfbad656afa62959d02/nodes/arrow HTTP/1.1\" 201 201\n",
      "Privacy: global (None), local (None)\n"
     ]
    },
    {
     "data": {
      "text/html": [
       "\n",
       "            <iframe id=\"f340723b-1b13-418d-889a-e22df8ea799e\" src=\"https://hub.graphistry.com/graph/graph.html?dataset=45581473c8fe4dfbad656afa62959d02&type=arrow&viztoken=32f39a74-7d2f-4359-91f5-33613bb9a66c&usertag=919a5cb8-pygraphistry-0.23.2&splashAfter=1650628548&info=true\"\n",
       "                    allowfullscreen=\"true\" webkitallowfullscreen=\"true\" mozallowfullscreen=\"true\"\n",
       "                    oallowfullscreen=\"true\" msallowfullscreen=\"true\"\n",
       "                    style=\"width:100%; height:500px; border: 1px solid #DDD; overflow: hidden\"\n",
       "                    \n",
       "            >\n",
       "            </iframe>\n",
       "        \n",
       "            <script>\n",
       "                try {\n",
       "                  $(\"#f340723b-1b13-418d-889a-e22df8ea799e\").bind('mousewheel', function(e) { e.preventDefault(); });\n",
       "                } catch (e) { console.error('exn catching scroll', e); }\n",
       "            </script>\n",
       "        "
      ],
      "text/plain": [
       "<IPython.core.display.HTML object>"
      ]
     },
     "execution_count": 22,
     "metadata": {},
     "output_type": "execute_result"
    }
   ],
   "source": [
    "g3 = g.gsql(\"\"\"\n",
    "  INTERPRET QUERY () FOR GRAPH GDELT_Events { \n",
    "  ListAccum<EDGE> @@edgeList;\n",
    "  events = \n",
    "    select e from Event:e-(:t)-:p\n",
    "    accum @@edgeList += t;\n",
    "  print @@edgeList;\n",
    "  }\n",
    "    \"\"\", \n",
    "  {'edges': '@@edgeList', 'nodes': 'events'}\n",
    ")       \n",
    "g3.plot()\n",
    "\n",
    "#g3.plot()"
   ]
  },
  {
   "cell_type": "code",
   "execution_count": null,
   "metadata": {},
   "outputs": [],
   "source": []
  }
 ],
 "metadata": {
  "kernelspec": {
   "display_name": "Python 3 (ipykernel)",
   "language": "python",
   "name": "python3"
  },
  "language_info": {
   "codemirror_mode": {
    "name": "ipython",
    "version": 3
   },
   "file_extension": ".py",
   "mimetype": "text/x-python",
   "name": "python",
   "nbconvert_exporter": "python",
   "pygments_lexer": "ipython3",
   "version": "3.9.0"
  }
 },
 "nbformat": 4,
 "nbformat_minor": 2
}
