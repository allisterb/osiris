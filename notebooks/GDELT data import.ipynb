{
 "cells": [
  {
   "cell_type": "code",
   "execution_count": 11,
   "id": "42e09088",
   "metadata": {},
   "outputs": [
    {
     "name": "stdout",
     "output_type": "stream",
     "text": [
      "['C:\\\\Projects\\\\osiris\\\\notebooks', 'C:\\\\Python\\\\Python37\\\\python37.zip', 'C:\\\\Python\\\\Python37\\\\DLLs', 'C:\\\\Python\\\\Python37\\\\lib', 'C:\\\\Python\\\\Python37', 'c:\\\\python\\\\venv\\\\osiris', '', 'c:\\\\python\\\\venv\\\\osiris\\\\lib\\\\site-packages', 'c:\\\\python\\\\venv\\\\osiris\\\\lib\\\\site-packages\\\\win32', 'c:\\\\python\\\\venv\\\\osiris\\\\lib\\\\site-packages\\\\win32\\\\lib', 'c:\\\\python\\\\venv\\\\osiris\\\\lib\\\\site-packages\\\\Pythonwin', 'c:\\\\python\\\\venv\\\\osiris\\\\lib\\\\site-packages\\\\IPython\\\\extensions', 'C:\\\\Users\\\\Allister\\\\.ipython', '..\\\\osiris']\n"
     ]
    }
   ],
   "source": [
    "import os, sys\n",
    "sys.path.append(os.path.join('..', 'osiris'))`"
   ]
  },
  {
   "cell_type": "code",
   "execution_count": 13,
   "id": "1e47edf3",
   "metadata": {},
   "outputs": [],
   "source": [
    "from data.gde"
   ]
  },
  {
   "cell_type": "code",
   "execution_count": null,
   "id": "ae5a2154",
   "metadata": {},
   "outputs": [],
   "source": []
  }
 ],
 "metadata": {
  "kernelspec": {
   "display_name": "Python 3 (ipykernel)",
   "language": "python",
   "name": "python3"
  },
  "language_info": {
   "codemirror_mode": {
    "name": "ipython",
    "version": 3
   },
   "file_extension": ".py",
   "mimetype": "text/x-python",
   "name": "python",
   "nbconvert_exporter": "python",
   "pygments_lexer": "ipython3",
   "version": "3.7.9"
  }
 },
 "nbformat": 4,
 "nbformat_minor": 5
}
