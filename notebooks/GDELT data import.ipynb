{
 "cells": [
  {
   "cell_type": "code",
   "execution_count": 11,
   "id": "a9a5c90e",
   "metadata": {},
   "outputs": [
    {
     "name": "stdout",
     "output_type": "stream",
     "text": [
      "['C:\\\\Projects\\\\osiris\\\\notebooks', 'C:\\\\Python\\\\Python37\\\\python37.zip', 'C:\\\\Python\\\\Python37\\\\DLLs', 'C:\\\\Python\\\\Python37\\\\lib', 'C:\\\\Python\\\\Python37', 'c:\\\\python\\\\venv\\\\osiris', '', 'c:\\\\python\\\\venv\\\\osiris\\\\lib\\\\site-packages', 'c:\\\\python\\\\venv\\\\osiris\\\\lib\\\\site-packages\\\\win32', 'c:\\\\python\\\\venv\\\\osiris\\\\lib\\\\site-packages\\\\win32\\\\lib', 'c:\\\\python\\\\venv\\\\osiris\\\\lib\\\\site-packages\\\\Pythonwin', 'c:\\\\python\\\\venv\\\\osiris\\\\lib\\\\site-packages\\\\IPython\\\\extensions', 'C:\\\\Users\\\\Allister\\\\.ipython', '..\\\\osiris']\n"
     ]
    }
   ],
   "source": [
    "import os, sys\n",
    "sys.path.append(os.path.join('..', 'osiris'))`"
   ]
  },
  {
   "cell_type": "code",
   "execution_count": 15,
   "id": "f209269c",
   "metadata": {},
   "outputs": [],
   "source": [
    "from data.gdelt import DataSource\n",
    "gdelt = DataSource()"
   ]
  },
  {
   "cell_type": "code",
   "execution_count": 18,
   "id": "f2cfce35",
   "metadata": {},
   "outputs": [
    {
     "name": "stdout",
     "output_type": "stream",
     "text": [
      "   GLOBALEVENTID   SQLDATE  MonthYear  Year  FractionDate Actor1Code  \\\n",
      "0      993028266  20200702     202007  2020     2020.4986        NaN   \n",
      "1      993028267  20200702     202007  2020     2020.4986        NaN   \n",
      "2      993028268  20200702     202007  2020     2020.4986        GBR   \n",
      "3      993028269  20200702     202007  2020     2020.4986        GBR   \n",
      "4      993028270  20200702     202007  2020     2020.4986     GBRMED   \n",
      "\n",
      "       Actor1Name Actor1CountryCode Actor1KnownGroupCode Actor1EthnicCode  \\\n",
      "0             NaN               NaN                  NaN              NaN   \n",
      "1             NaN               NaN                  NaN              NaN   \n",
      "2  UNITED KINGDOM               GBR                  NaN              NaN   \n",
      "3  UNITED KINGDOM               GBR                  NaN              NaN   \n",
      "4         BRITISH               GBR                  NaN              NaN   \n",
      "\n",
      "   ... ActionGeo_Type                           ActionGeo_FullName  \\\n",
      "0  ...              2                       Alabama, United States   \n",
      "1  ...              2                     Tennessee, United States   \n",
      "2  ...              4  Benderloch, Argyll and Bute, United Kingdom   \n",
      "3  ...              1                               United Kingdom   \n",
      "4  ...              1                               United Kingdom   \n",
      "\n",
      "  ActionGeo_CountryCode ActionGeo_ADM1Code ActionGeo_ADM2Code ActionGeo_Lat  \\\n",
      "0                    US               USAL                NaN       32.7990   \n",
      "1                    US               USTN                NaN       35.7449   \n",
      "2                    UK               UKT8              40176       56.4833   \n",
      "3                    UK                 UK                NaN       54.0000   \n",
      "4                    UK                 UK                NaN       54.0000   \n",
      "\n",
      "  ActionGeo_Long ActionGeo_FeatureID       DATEADDED  \\\n",
      "0       -86.8073                  AL  20210702003000   \n",
      "1       -86.7489                  TN  20210702003000   \n",
      "2        -5.4000            -2604064  20210702003000   \n",
      "3        -4.0000                  UK  20210702003000   \n",
      "4        -4.0000                  UK  20210702003000   \n",
      "\n",
      "                                           SOURCEURL  \n",
      "0  https://www.alabamanews.net/2021/07/01/wwii-ve...  \n",
      "1  https://www.alabamanews.net/2021/07/01/wwii-ve...  \n",
      "2  https://www.obantimes.co.uk/2021/07/01/fined-a...  \n",
      "3  https://news.yahoo.com/amber-heard-mom-her-own...  \n",
      "4  https://news.yahoo.com/amber-heard-mom-her-own...  \n",
      "\n",
      "[5 rows x 62 columns]\n"
     ]
    }
   ],
   "source": [
    "events = gdelt.import_data('events', 'Jul-02-2021', 'Jul-03-2021')"
   ]
  },
  {
   "cell_type": "code",
   "execution_count": 19,
   "id": "1957e4ba",
   "metadata": {},
   "outputs": [
    {
     "name": "stdout",
     "output_type": "stream",
     "text": [
      "<class 'pandas.core.frame.DataFrame'>\n",
      "Int64Index: 181043 entries, 0 to 68751\n",
      "Data columns (total 62 columns):\n",
      " #   Column                 Non-Null Count   Dtype  \n",
      "---  ------                 --------------   -----  \n",
      " 0   GLOBALEVENTID          181043 non-null  int64  \n",
      " 1   SQLDATE                181043 non-null  int64  \n",
      " 2   MonthYear              181043 non-null  int64  \n",
      " 3   Year                   181043 non-null  int64  \n",
      " 4   FractionDate           181043 non-null  float64\n",
      " 5   Actor1Code             162514 non-null  object \n",
      " 6   Actor1Name             162514 non-null  object \n",
      " 7   Actor1CountryCode      97937 non-null   object \n",
      " 8   Actor1KnownGroupCode   2849 non-null    object \n",
      " 9   Actor1EthnicCode       1563 non-null    object \n",
      " 10  Actor1Religion1Code    2121 non-null    object \n",
      " 11  Actor1Religion2Code    561 non-null     object \n",
      " 12  Actor1Type1Code        80580 non-null   object \n",
      " 13  Actor1Type2Code        5626 non-null    object \n",
      " 14  Actor1Type3Code        113 non-null     object \n",
      " 15  Actor2Code             125320 non-null  object \n",
      " 16  Actor2Name             125320 non-null  object \n",
      " 17  Actor2CountryCode      75475 non-null   object \n",
      " 18  Actor2KnownGroupCode   2126 non-null    object \n",
      " 19  Actor2EthnicCode       1220 non-null    object \n",
      " 20  Actor2Religion1Code    1873 non-null    object \n",
      " 21  Actor2Religion2Code    463 non-null     object \n",
      " 22  Actor2Type1Code        62278 non-null   object \n",
      " 23  Actor2Type2Code        3960 non-null    object \n",
      " 24  Actor2Type3Code        58 non-null      object \n",
      " 25  IsRootEvent            181043 non-null  int64  \n",
      " 26  EventCode              181043 non-null  object \n",
      " 27  CAMEOCodeDescription   181043 non-null  object \n",
      " 28  EventBaseCode          181043 non-null  object \n",
      " 29  EventRootCode          181043 non-null  object \n",
      " 30  QuadClass              181043 non-null  int64  \n",
      " 31  GoldsteinScale         181043 non-null  float64\n",
      " 32  NumMentions            181043 non-null  int64  \n",
      " 33  NumSources             181043 non-null  int64  \n",
      " 34  NumArticles            181043 non-null  int64  \n",
      " 35  AvgTone                181043 non-null  float64\n",
      " 36  Actor1Geo_Type         181043 non-null  int64  \n",
      " 37  Actor1Geo_FullName     157849 non-null  object \n",
      " 38  Actor1Geo_CountryCode  157886 non-null  object \n",
      " 39  Actor1Geo_ADM1Code     157886 non-null  object \n",
      " 40  Actor1Geo_ADM2Code     95076 non-null   object \n",
      " 41  Actor1Geo_Lat          157849 non-null  float64\n",
      " 42  Actor1Geo_Long         157861 non-null  float64\n",
      " 43  Actor1Geo_FeatureID    157886 non-null  object \n",
      " 44  Actor2Geo_Type         181043 non-null  int64  \n",
      " 45  Actor2Geo_FullName     121894 non-null  object \n",
      " 46  Actor2Geo_CountryCode  121923 non-null  object \n",
      " 47  Actor2Geo_ADM1Code     121923 non-null  object \n",
      " 48  Actor2Geo_ADM2Code     62502 non-null   object \n",
      " 49  Actor2Geo_Lat          121894 non-null  float64\n",
      " 50  Actor2Geo_Long         121903 non-null  float64\n",
      " 51  Actor2Geo_FeatureID    121923 non-null  object \n",
      " 52  ActionGeo_Type         181043 non-null  int64  \n",
      " 53  ActionGeo_FullName     175849 non-null  object \n",
      " 54  ActionGeo_CountryCode  175885 non-null  object \n",
      " 55  ActionGeo_ADM1Code     175885 non-null  object \n",
      " 56  ActionGeo_ADM2Code     89957 non-null   object \n",
      " 57  ActionGeo_Lat          175849 non-null  float64\n",
      " 58  ActionGeo_Long         175862 non-null  float64\n",
      " 59  ActionGeo_FeatureID    175885 non-null  object \n",
      " 60  DATEADDED              181043 non-null  int64  \n",
      " 61  SOURCEURL              181043 non-null  object \n",
      "dtypes: float64(9), int64(13), object(40)\n",
      "memory usage: 87.0+ MB\n"
     ]
    }
   ],
   "source": [
    "events.info()"
   ]
  }
 ],
 "metadata": {
  "kernelspec": {
   "display_name": "Python 3 (ipykernel)",
   "language": "python",
   "name": "python3"
  },
  "language_info": {
   "codemirror_mode": {
    "name": "ipython",
    "version": 3
   },
   "file_extension": ".py",
   "mimetype": "text/x-python",
   "name": "python",
   "nbconvert_exporter": "python",
   "pygments_lexer": "ipython3",
   "version": "3.7.9"
  }
 },
 "nbformat": 4,
 "nbformat_minor": 5
}
