{
 "cells": [
  {
   "cell_type": "markdown",
   "id": "2b08b38f",
   "metadata": {},
   "source": [
    "# osiris GDELT data"
   ]
  },
  {
   "cell_type": "markdown",
   "id": "af12a35f",
   "metadata": {},
   "source": [
    "This notebook describes the [GDELT](https://www.gdeltproject.org/) project data that osiris uses and how to import it using osiris either from the GDELT file server or from Google BigQuery."
   ]
  },
  {
   "cell_type": "markdown",
   "id": "1a6d330f",
   "metadata": {},
   "source": [
    "*From the GDELT website*:\n",
    ">The GDELT Project is a realtime network diagram and database of global human society for open research.\n",
    "![gf](https://www.gdeltproject.org/images/spinningglobe.gif)\n",
    ">The GDELT Project is an initiative to construct a catalog of human societal-scale behavior and beliefs across all countries of the world, connecting every person, organization, location, count, theme, news source, and event across the planet into a single massive network that captures what's happening around the world, what its context is and who's involved, and how the world is feeling about it, every single day."
   ]
  },
  {
   "cell_type": "code",
   "execution_count": 1,
   "id": "612368ab",
   "metadata": {},
   "outputs": [],
   "source": [
    "# Import the osiris code and set the runtime env \n",
    "import os, sys\n",
    "sys.path.append(os.path.join('..', 'osiris'))\n",
    "sys.path.append(os.path.join('..', 'ext'))\n",
    "from osiris_global import set_runtime_env\n",
    "set_runtime_env(debug = False, interactive_nb=True)"
   ]
  },
  {
   "cell_type": "code",
   "execution_count": 5,
   "id": "260316ff",
   "metadata": {},
   "outputs": [],
   "source": [
    "# Import data directly from GDELT file server\n",
    "from data.gdelt import DataSource\n",
    "gdelt = DataSource()"
   ]
  },
  {
   "cell_type": "markdown",
   "id": "c0ebb24d",
   "metadata": {},
   "source": [
    "## GDELT Event data"
   ]
  },
  {
   "cell_type": "markdown",
   "id": "b22e514d",
   "metadata": {},
   "source": [
    "The GDELT [event data](http://data.gdeltproject.org/documentation/GDELT-Event_Codebook-V2.0.pdf) contains hundreds of millions of automatically coded events extracted from news stories daily."
   ]
  },
  {
   "cell_type": "code",
   "execution_count": 6,
   "id": "aa777fa1",
   "metadata": {},
   "outputs": [
    {
     "name": "stdout",
     "output_type": "stream",
     "text": [
      "Importing GDELT events data for 2 hour(s) from 11-02-2021 02:00:00 to 11-02-2021 04:00:00...\n",
      "Importing GDELT events data for 2 hour(s) from 11-02-2021 02:00:00 to 11-02-2021 04:00:00 completed in 2.63 s.\n"
     ]
    }
   ],
   "source": [
    "events = gdelt.import_data('events', 'Nov-02-2021 02:00:00', 'Nov-02-2021 04:00:00')"
   ]
  },
  {
   "cell_type": "code",
   "execution_count": 7,
   "id": "0993b9c5",
   "metadata": {},
   "outputs": [
    {
     "name": "stdout",
     "output_type": "stream",
     "text": [
      "<class 'pandas.core.frame.DataFrame'>\n",
      "RangeIndex: 916 entries, 0 to 915\n",
      "Data columns (total 62 columns):\n",
      " #   Column                 Non-Null Count  Dtype  \n",
      "---  ------                 --------------  -----  \n",
      " 0   GLOBALEVENTID          916 non-null    int64  \n",
      " 1   SQLDATE                916 non-null    int64  \n",
      " 2   MonthYear              916 non-null    int64  \n",
      " 3   Year                   916 non-null    int64  \n",
      " 4   FractionDate           916 non-null    float64\n",
      " 5   Actor1Code             825 non-null    object \n",
      " 6   Actor1Name             825 non-null    object \n",
      " 7   Actor1CountryCode      483 non-null    object \n",
      " 8   Actor1KnownGroupCode   11 non-null     object \n",
      " 9   Actor1EthnicCode       8 non-null      object \n",
      " 10  Actor1Religion1Code    7 non-null      object \n",
      " 11  Actor1Religion2Code    6 non-null      object \n",
      " 12  Actor1Type1Code        460 non-null    object \n",
      " 13  Actor1Type2Code        25 non-null     object \n",
      " 14  Actor1Type3Code        0 non-null      float64\n",
      " 15  Actor2Code             659 non-null    object \n",
      " 16  Actor2Name             659 non-null    object \n",
      " 17  Actor2CountryCode      390 non-null    object \n",
      " 18  Actor2KnownGroupCode   7 non-null      object \n",
      " 19  Actor2EthnicCode       7 non-null      object \n",
      " 20  Actor2Religion1Code    3 non-null      object \n",
      " 21  Actor2Religion2Code    2 non-null      object \n",
      " 22  Actor2Type1Code        356 non-null    object \n",
      " 23  Actor2Type2Code        17 non-null     object \n",
      " 24  Actor2Type3Code        0 non-null      float64\n",
      " 25  IsRootEvent            916 non-null    int64  \n",
      " 26  EventCode              916 non-null    object \n",
      " 27  CAMEOCodeDescription   916 non-null    object \n",
      " 28  EventBaseCode          916 non-null    object \n",
      " 29  EventRootCode          916 non-null    object \n",
      " 30  QuadClass              916 non-null    int64  \n",
      " 31  GoldsteinScale         916 non-null    float64\n",
      " 32  NumMentions            916 non-null    int64  \n",
      " 33  NumSources             916 non-null    int64  \n",
      " 34  NumArticles            916 non-null    int64  \n",
      " 35  AvgTone                916 non-null    float64\n",
      " 36  Actor1Geo_Type         916 non-null    int64  \n",
      " 37  Actor1Geo_FullName     802 non-null    object \n",
      " 38  Actor1Geo_CountryCode  802 non-null    object \n",
      " 39  Actor1Geo_ADM1Code     802 non-null    object \n",
      " 40  Actor1Geo_ADM2Code     429 non-null    object \n",
      " 41  Actor1Geo_Lat          802 non-null    float64\n",
      " 42  Actor1Geo_Long         802 non-null    float64\n",
      " 43  Actor1Geo_FeatureID    802 non-null    object \n",
      " 44  Actor2Geo_Type         916 non-null    int64  \n",
      " 45  Actor2Geo_FullName     642 non-null    object \n",
      " 46  Actor2Geo_CountryCode  642 non-null    object \n",
      " 47  Actor2Geo_ADM1Code     642 non-null    object \n",
      " 48  Actor2Geo_ADM2Code     267 non-null    object \n",
      " 49  Actor2Geo_Lat          642 non-null    float64\n",
      " 50  Actor2Geo_Long         642 non-null    float64\n",
      " 51  Actor2Geo_FeatureID    642 non-null    object \n",
      " 52  ActionGeo_Type         916 non-null    int64  \n",
      " 53  ActionGeo_FullName     893 non-null    object \n",
      " 54  ActionGeo_CountryCode  893 non-null    object \n",
      " 55  ActionGeo_ADM1Code     893 non-null    object \n",
      " 56  ActionGeo_ADM2Code     351 non-null    object \n",
      " 57  ActionGeo_Lat          893 non-null    float64\n",
      " 58  ActionGeo_Long         893 non-null    float64\n",
      " 59  ActionGeo_FeatureID    893 non-null    object \n",
      " 60  DATEADDED              916 non-null    int64  \n",
      " 61  SOURCEURL              916 non-null    object \n",
      "dtypes: float64(11), int64(13), object(38)\n",
      "memory usage: 443.8+ KB\n"
     ]
    }
   ],
   "source": [
    "events.info()"
   ]
  },
  {
   "cell_type": "markdown",
   "id": "a6533dfb",
   "metadata": {},
   "source": [
    "Each event row in the data is highly denormalized coded using a hierachical coding system called [CAMEO](http://data.gdeltproject.org/documentation/CAMEO.Manual.1.1b3.pdf) - Conflict and Mediation Event Observations"
   ]
  },
  {
   "cell_type": "code",
   "execution_count": 8,
   "id": "0cbfb2f5",
   "metadata": {},
   "outputs": [
    {
     "data": {
      "text/html": [
       "<div>\n",
       "<style scoped>\n",
       "    .dataframe tbody tr th:only-of-type {\n",
       "        vertical-align: middle;\n",
       "    }\n",
       "\n",
       "    .dataframe tbody tr th {\n",
       "        vertical-align: top;\n",
       "    }\n",
       "\n",
       "    .dataframe thead th {\n",
       "        text-align: right;\n",
       "    }\n",
       "</style>\n",
       "<table border=\"1\" class=\"dataframe\">\n",
       "  <thead>\n",
       "    <tr style=\"text-align: right;\">\n",
       "      <th></th>\n",
       "      <th>EventCode</th>\n",
       "      <th>CAMEOCodeDescription</th>\n",
       "    </tr>\n",
       "  </thead>\n",
       "  <tbody>\n",
       "    <tr>\n",
       "      <th>0</th>\n",
       "      <td>190</td>\n",
       "      <td>Use conventional military force, not specifie...</td>\n",
       "    </tr>\n",
       "    <tr>\n",
       "      <th>1</th>\n",
       "      <td>010</td>\n",
       "      <td>Make statement, not specified below</td>\n",
       "    </tr>\n",
       "    <tr>\n",
       "      <th>2</th>\n",
       "      <td>042</td>\n",
       "      <td>Make a visit</td>\n",
       "    </tr>\n",
       "    <tr>\n",
       "      <th>3</th>\n",
       "      <td>1724</td>\n",
       "      <td>Impose state of emergency or martial law</td>\n",
       "    </tr>\n",
       "    <tr>\n",
       "      <th>4</th>\n",
       "      <td>043</td>\n",
       "      <td>Host a visit</td>\n",
       "    </tr>\n",
       "    <tr>\n",
       "      <th>...</th>\n",
       "      <td>...</td>\n",
       "      <td>...</td>\n",
       "    </tr>\n",
       "    <tr>\n",
       "      <th>911</th>\n",
       "      <td>042</td>\n",
       "      <td>Make a visit</td>\n",
       "    </tr>\n",
       "    <tr>\n",
       "      <th>912</th>\n",
       "      <td>042</td>\n",
       "      <td>Make a visit</td>\n",
       "    </tr>\n",
       "    <tr>\n",
       "      <th>913</th>\n",
       "      <td>051</td>\n",
       "      <td>Praise or endorse</td>\n",
       "    </tr>\n",
       "    <tr>\n",
       "      <th>914</th>\n",
       "      <td>042</td>\n",
       "      <td>Make a visit</td>\n",
       "    </tr>\n",
       "    <tr>\n",
       "      <th>915</th>\n",
       "      <td>051</td>\n",
       "      <td>Praise or endorse</td>\n",
       "    </tr>\n",
       "  </tbody>\n",
       "</table>\n",
       "<p>916 rows × 2 columns</p>\n",
       "</div>"
      ],
      "text/plain": [
       "    EventCode                               CAMEOCodeDescription\n",
       "0         190   Use conventional military force, not specifie...\n",
       "1         010                Make statement, not specified below\n",
       "2         042                                       Make a visit\n",
       "3        1724           Impose state of emergency or martial law\n",
       "4         043                                       Host a visit\n",
       "..        ...                                                ...\n",
       "911       042                                       Make a visit\n",
       "912       042                                       Make a visit\n",
       "913       051                                  Praise or endorse\n",
       "914       042                                       Make a visit\n",
       "915       051                                  Praise or endorse\n",
       "\n",
       "[916 rows x 2 columns]"
      ]
     },
     "execution_count": 8,
     "metadata": {},
     "output_type": "execute_result"
    }
   ],
   "source": [
    "events[['EventCode', 'CAMEOCodeDescription']]"
   ]
  },
  {
   "cell_type": "code",
   "execution_count": null,
   "id": "d219e48b",
   "metadata": {},
   "outputs": [],
   "source": [
    "gkg = gdelt.import_data('gkg', 'Nov-02-2021 02:00:00', 'Nov-02-2021 04:00:00')"
   ]
  },
  {
   "cell_type": "code",
   "execution_count": null,
   "id": "ce0b378a",
   "metadata": {},
   "outputs": [],
   "source": [
    "gkg.info()"
   ]
  },
  {
   "cell_type": "code",
   "execution_count": null,
   "id": "813b1532",
   "metadata": {},
   "outputs": [],
   "source": [
    "gkg.head(100)"
   ]
  }
 ],
 "metadata": {
  "kernelspec": {
   "display_name": "Python 3 (ipykernel)",
   "language": "python",
   "name": "python3"
  },
  "language_info": {
   "codemirror_mode": {
    "name": "ipython",
    "version": 3
   },
   "file_extension": ".py",
   "mimetype": "text/x-python",
   "name": "python",
   "nbconvert_exporter": "python",
   "pygments_lexer": "ipython3",
   "version": "3.9.0"
  }
 },
 "nbformat": 4,
 "nbformat_minor": 5
}
