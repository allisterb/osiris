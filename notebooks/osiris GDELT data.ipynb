{
 "cells": [
  {
   "cell_type": "markdown",
   "id": "2b08b38f",
   "metadata": {},
   "source": [
    "# osiris GDELT data"
   ]
  },
  {
   "cell_type": "markdown",
   "id": "af12a35f",
   "metadata": {},
   "source": [
    "This notebook describes the [GDELT](https://www.gdeltproject.org/) project data that osiris uses and how to import it using osiris either from the GDELT file server or from Google BigQuery."
   ]
  },
  {
   "cell_type": "markdown",
   "id": "1a6d330f",
   "metadata": {},
   "source": [
    "*From the GDELT website*:\n",
    ">The GDELT Project is a realtime network diagram and database of global human society for open research.\n",
    "![gf](https://www.gdeltproject.org/images/spinningglobe.gif)\n",
    ">The GDELT Project is an initiative to construct a catalog of human societal-scale behavior and beliefs across all countries of the world, connecting every person, organization, location, count, theme, news source, and event across the planet into a single massive network that captures what's happening around the world, what its context is and who's involved, and how the world is feeling about it, every single day."
   ]
  },
  {
   "cell_type": "code",
   "execution_count": 1,
   "id": "612368ab",
   "metadata": {},
   "outputs": [],
   "source": [
    "# Import the osiris code and set the runtime env \n",
    "import os, sys\n",
    "sys.path.append(os.path.join('..', 'osiris'))\n",
    "sys.path.append(os.path.join('..', 'ext'))\n",
    "from osiris_global import set_runtime_env\n",
    "set_runtime_env(debug = False, interactive_nb=True)"
   ]
  },
  {
   "cell_type": "code",
   "execution_count": 4,
   "id": "260316ff",
   "metadata": {},
   "outputs": [],
   "source": [
    "# Import data directly from GDELT file server\n",
    "from data.gdelt import DataSource\n",
    "gdelt = DataSource()"
   ]
  },
  {
   "cell_type": "markdown",
   "id": "c0ebb24d",
   "metadata": {},
   "source": [
    "## GDELT Event data"
   ]
  },
  {
   "cell_type": "markdown",
   "id": "b22e514d",
   "metadata": {},
   "source": [
    "The GDELT [event data](http://data.gdeltproject.org/documentation/GDELT-Event_Codebook-V2.0.pdf) contains hundreds of millions of automatically coded events extracted from news stories daily."
   ]
  },
  {
   "cell_type": "code",
   "execution_count": null,
   "id": "aa777fa1",
   "metadata": {},
   "outputs": [],
   "source": [
    "events = gdelt.import_data('events', 'Nov-02-2021 02:00:00', 'Nov-02-2021 04:00:00')"
   ]
  },
  {
   "cell_type": "code",
   "execution_count": null,
   "id": "0993b9c5",
   "metadata": {},
   "outputs": [],
   "source": [
    "events.info()"
   ]
  },
  {
   "cell_type": "markdown",
   "id": "a6533dfb",
   "metadata": {},
   "source": [
    "Each event row in the data is highly denormalized coded using a hierachical coding system called [CAMEO](http://data.gdeltproject.org/documentation/CAMEO.Manual.1.1b3.pdf) - Conflict and Mediation Event Observations"
   ]
  },
  {
   "cell_type": "code",
   "execution_count": null,
   "id": "0cbfb2f5",
   "metadata": {},
   "outputs": [],
   "source": [
    "events[['EventCode', 'CAMEOCodeDescription']]"
   ]
  },
  {
   "cell_type": "code",
   "execution_count": null,
   "id": "d219e48b",
   "metadata": {},
   "outputs": [],
   "source": [
    "gkg = gdelt.import_data('gkg', 'Nov-02-2021 02:00:00', 'Nov-02-2021 04:00:00')"
   ]
  },
  {
   "cell_type": "code",
   "execution_count": null,
   "id": "ce0b378a",
   "metadata": {},
   "outputs": [],
   "source": [
    "gkg.info()"
   ]
  },
  {
   "cell_type": "code",
   "execution_count": null,
   "id": "813b1532",
   "metadata": {},
   "outputs": [],
   "source": [
    "gkg.head(100)"
   ]
  },
  {
   "cell_type": "code",
   "execution_count": 2,
   "id": "857ddbc2",
   "metadata": {},
   "outputs": [
    {
     "name": "stdout",
     "output_type": "stream",
     "text": [
      "Fetching row iterator for table osiris-347701.gdelt_snapshots.events_actions_20220000_20220421...\n",
      "Fetching row iterator for table osiris-347701.gdelt_snapshots.events_actions_20220000_20220421 completed in 0.00 s.\n"
     ]
    },
    {
     "data": {
      "application/vnd.jupyter.widget-view+json": {
       "model_id": "",
       "version_major": 2,
       "version_minor": 0
      },
      "text/plain": [
       "  0%|          | 0/3 [00:00<?, ?batch/s]"
      ]
     },
     "metadata": {},
     "output_type": "display_data"
    },
    {
     "name": "stdout",
     "output_type": "stream",
     "text": [
      "              ID                      Actor1ID                      Actor2ID  \\\n",
      "0     1029322782  TzDUyfR/lqodWVk8ks3USmv88VM=  XOU985vr8VIlggJ5793XLI9ba84=   \n",
      "1     1028350424  ubHwXHRJviEVW2vtL0ObeedhrJw=  lMZTtnHvU3s1GlvlvJo5k3+jyMs=   \n",
      "2     1021550572  l7eim/rHniS2aUx7zMwSffGqHJE=  iu+wbEJuB6CmcaHiSItIWNaUpzA=   \n",
      "3     1022318261  S7Oqkp1MxndhbgKltH/KITlJaqs=  iu+wbEJuB6CmcaHiSItIWNaUpzA=   \n",
      "4     1024310578  jOEZ/5w36CLp1du3XMqBH4DB9k4=  iu+wbEJuB6CmcaHiSItIWNaUpzA=   \n",
      "...          ...                           ...                           ...   \n",
      "9995  1029197704  DAWq7VcwC5sZeZIqhbqWXbeuK14=  szM+hTrcccbeZXO98H9lv2aPmvI=   \n",
      "9996  1023368287  wuGYV2nALD0u88o/mteURWYlmIA=  iu+wbEJuB6CmcaHiSItIWNaUpzA=   \n",
      "9997  1038791987  fmt8ICK6NDXXn12xQjtO0K02YIE=  iu+wbEJuB6CmcaHiSItIWNaUpzA=   \n",
      "9998  1035826050  d8NXpQNosnWLngixXg1F1C1b+HI=  YVRh8I4t0XfIbSgkQr8Vouh8v+I=   \n",
      "9999  1022890353  CPKznfipz4SPamwt3F9dDhvtu2o=  8+e5VArriK2GkyX+pXT1x6eqMBY=   \n",
      "\n",
      "            Date  IsRoot CAMEOCode BaseCAMEOCode RootCAMEOCode  \\\n",
      "0     2022-02-20   False       045           045            04   \n",
      "1     2022-02-15   False       115           115            11   \n",
      "2     2022-01-02    True       174           174            17   \n",
      "3     2022-01-08   False       114           114            11   \n",
      "4     2022-01-21   False      0241           024            02   \n",
      "...          ...     ...       ...           ...           ...   \n",
      "9995  2022-02-19    True       026           026            02   \n",
      "9996  2022-01-15    True       015           015            01   \n",
      "9997  2022-04-11   False       017           017            01   \n",
      "9998  2022-03-25    True       025           025            02   \n",
      "9999  2022-01-12    True       174           174            17   \n",
      "\n",
      "      CAMEOQuadClass  GoldsteinScale  ...  NumSources  NumArticles   AvgTone  \\\n",
      "0                  1             5.0  ...           1            2 -3.067485   \n",
      "1                  3            -2.0  ...           1            2 -4.889299   \n",
      "2                  4            -5.0  ...           1           10 -5.438066   \n",
      "3                  3            -2.0  ...           1            2 -5.375427   \n",
      "4                  1            -0.3  ...           1            4 -3.114754   \n",
      "...              ...             ...  ...         ...          ...       ...   \n",
      "9995               1             4.0  ...           1            2 -5.494505   \n",
      "9996               1             0.0  ...           1           10  3.125000   \n",
      "9997               1             0.0  ...           1            6  5.188679   \n",
      "9998               1            -0.3  ...           1           10 -3.615604   \n",
      "9999               4            -5.0  ...           1           10 -3.333333   \n",
      "\n",
      "      Geo_Type                                   Geo_FullName Geo_CountryCode  \\\n",
      "0            4         Rossiya  Orenburgskaya Oblast'  Russia              RS   \n",
      "1            3                  Houston  Texas  United States              US   \n",
      "2            2                        Michigan  United States              US   \n",
      "3            2                      New Jersey  United States              US   \n",
      "4            1                                    South Korea              KS   \n",
      "...        ...                                            ...             ...   \n",
      "9995         4                        Munich  Bayern  Germany              GM   \n",
      "9996         1                                         Canada              CA   \n",
      "9997         4  Hanuabada  National Capital  Papua New Guinea              PP   \n",
      "9998         4                        Ottawa  Ontario  Canada              CA   \n",
      "9999         4                          Karyagdi  Van  Turkey              TU   \n",
      "\n",
      "     Geo_ADMCode  Geo_Lat  Geo_Long  Geo_FeatureID  \n",
      "0     RS55 25084  52.4000   54.9833       -2993111  \n",
      "1     USTX TX201  29.7633  -95.3633        1380948  \n",
      "2           USMI  43.3504  -84.5603             MI  \n",
      "3           USNJ  40.3140  -74.5089             NJ  \n",
      "4             KS  37.0000  127.5000             KS  \n",
      "...          ...      ...       ...            ...  \n",
      "9995  GM02 16532  48.1500   11.5833       -1829149  \n",
      "9996          CA  60.0000  -96.0000             CA  \n",
      "9997  PP20 18585  -9.4500  147.1330       -2189593  \n",
      "9998  CA08 12755  45.4167  -75.7000        -570760  \n",
      "9999  TU65 28342  37.9074   43.2611       10422124  \n",
      "\n",
      "[30000 rows x 21 columns]\n"
     ]
    }
   ],
   "source": [
    "from data.tables import events\n",
    "eve = events('2022-01-01', maxrows=30000)\n",
    "print(eve)"
   ]
  },
  {
   "cell_type": "code",
   "execution_count": null,
   "id": "35dfb6cf",
   "metadata": {},
   "outputs": [],
   "source": []
  }
 ],
 "metadata": {
  "kernelspec": {
   "display_name": "Python 3 (ipykernel)",
   "language": "python",
   "name": "python3"
  },
  "language_info": {
   "codemirror_mode": {
    "name": "ipython",
    "version": 3
   },
   "file_extension": ".py",
   "mimetype": "text/x-python",
   "name": "python",
   "nbconvert_exporter": "python",
   "pygments_lexer": "ipython3",
   "version": "3.9.0"
  }
 },
 "nbformat": 4,
 "nbformat_minor": 5
}
