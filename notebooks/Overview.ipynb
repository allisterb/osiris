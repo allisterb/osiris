{
 "cells": [
  {
   "cell_type": "markdown",
   "id": "2b08b38f",
   "metadata": {},
   "source": [
    "# osiris"
   ]
  },
  {
   "cell_type": "markdown",
   "id": "af12a35f",
   "metadata": {},
   "source": [
    "![img](https://dm2301files.storage.live.com/y4mmRC1xelS6Y6MEqUnZ-k2vjpADHpo6UMZAaZWROunr9-Ml5FYDlZ6WMxCGedy7NDhwDpusZdF5E1oLR5Qn6momydHe7tYUOMwNeFeGW7pUWkBjGPSnZp2sacYWs9IKkose6xjhSySL_v2tbfItRI7T_Pw_Tayhaa2F_vrwW6ucyr6WPa6s9DWH_if9Y5Y3yAU?width=375&height=250&cropmode=none)\n",
    "\n",
    "\n",
    "osiris is a Python data processing and analysis environment for data-based computational conflict forecasting using very large datasets and graph-based methods and models and visualization, powered by scalable graph databases.\n",
    "\n",
    "You can use osiris to analyze causal chains and networks of confict and violence around the world from realtime-updated, [automatically-encoded political event data](https://parusanalytics.com/eventdata/papers.dir/Schrodt_Yonamine_NewDirectionsInText.pdf) from projects like GDELT. This notebook gives an overview of the osiris project, the [GDELT project](https://www.gdeltproject.org/) data that osiris uses, how to import political event data using osiris either from the GDELT file server or from Google BigQuery, how to visualize and analyze it using Python, and how to load it into a TigerGraph graph server instance to efficiently run graph-centric queries on it to retrieve vertex-edge event data that can then be further analyzed."
   ]
  },
  {
   "cell_type": "markdown",
   "id": "c26512f9",
   "metadata": {},
   "source": [
    "## Notebook Environment Setup"
   ]
  },
  {
   "cell_type": "code",
   "execution_count": null,
   "id": "71b28c39",
   "metadata": {},
   "outputs": [],
   "source": [
    "import os, sys\n",
    "# Check if running inside Colab or Kaggle\n",
    "IN_COLAB = 'COLAB_GPU' in os.environ\n",
    "IN_KAGGLE = 'KAGGLE_KERNEL_RUN_TYPE' in os.environ\n",
    "IN_HOSTED_NB = IN_COLAB or IN_KAGGLE\n",
    "os.environ['IN_HOSTED_NB'] = str(IN_HOSTED_NB)\n",
    "\n",
    "OS_NAME = sys.platform.upper()\n",
    "if OS_NAME in ['LINUX', 'DARWIN'] and IN_HOSTED_NB:\n",
    "    import subprocess\n",
    "    print('Installing osiris from GitHub...')\n",
    "    print(subprocess.run('if [ -d \"osiris\" ]; then rm -Rf osiris; fi', text=True, shell=True, check=True, capture_output=True).stdout)\n",
    "    print(subprocess.run('git clone https://github.com/allisterb/osiris --recurse-submodule', text=True, shell=True, check=True, capture_output=True).stdout)\n",
    "    print(subprocess.run('cd osiris && ./install', text=True, shell=True, check=True, capture_output=True).stdout)\n",
    "    if IN_COLAB:\n",
    "        print('Installing colab-env which can pull env variable values from a file called vars.env on your GDrive.')\n",
    "        print(subprocess.run('pip install colab-env --upgrade', text=True, shell=True, check=True, capture_output=True).stdout)\n",
    "\n",
    "# If we're not in a hosted nb env assume we're running Jupyter from the osiris project directory root\n",
    "OSIRIS_PATH = '..' if not IN_HOSTED_NB else 'osiris'\n",
    "\n",
    "# Import the osiris code and set the runtime env. \n",
    "sys.path.append(os.path.join(OSIRIS_PATH, 'osiris'))\n",
    "sys.path.append(os.path.join(OSIRIS_PATH, 'ext'))\n",
    "from osiris_global import set_runtime_env\n",
    "set_runtime_env(interactive_nb=True)"
   ]
  },
  {
   "cell_type": "markdown",
   "id": "ecbe908a",
   "metadata": {},
   "source": [
    "## GDELT Event Data"
   ]
  },
  {
   "cell_type": "markdown",
   "id": "082e2df0",
   "metadata": {},
   "source": [
    "*From the  [GDELT project](https://www.gdeltproject.org/) website*:\n",
    ">The GDELT Project is a realtime network diagram and database of global human society for open research.\n",
    "![gf](https://www.gdeltproject.org/images/spinningglobe.gif)\n",
    "\n",
    ">The GDELT Project is an initiative to construct a catalog of human societal-scale behavior and beliefs across all countries of the world, connecting every person, organization, location, count, theme, news source, and event across the planet into a single massive network that captures what's happening around the world, what its context is and who's involved, and how the world is feeling about it, every single day."
   ]
  },
  {
   "cell_type": "markdown",
   "id": "8936099b",
   "metadata": {},
   "source": [
    "The GDELT [event data](http://data.gdeltproject.org/documentation/GDELT-Event_Codebook-V2.0.pdf) contains hundreds of millions of automatically coded events extracted from news stories daily using NLU methods and models. Each event data row contains the following fields:\n",
    "1. *Actors*: Humans or organizations or states which initiate and are the target of event actions. Actors may have geographic information but not temporal. An event references exactly 2 actors: Actor1 and Actor2.\n",
    "2. *Actions*: Codes and other information which describe each event. Actions have both temporal and spatial attributes: an event time plus some geo information like latitude / longitude. Actors and actions naturally form graphs with directed edges connecting Actor1-->Action-->Actor2. An Actor-Action edge may contain attributes like the event time and a complementary reverse edge to make querying easier e.g. Actor1----event1_date---->Action1----event1_date--->Actor2----->event2_date----->Action2----event2_date---->Actor3 \n",
    "3. *SourceURL*: a URL that locates the *story* from which the event data was extracted.\n",
    "\n",
    "osiris can extract data directly from the GDELT file server. The advantage of this method is that you don't need to have any special credentials or server access (remember we're interested *open-source* indicators.). All the data is downloaded directly to your client machine or notebook environment."
   ]
  },
  {
   "cell_type": "markdown",
   "id": "d786b4c0",
   "metadata": {},
   "source": [
    "### Importing GDELT data from file server"
   ]
  },
  {
   "cell_type": "markdown",
   "id": "4df9ecdf",
   "metadata": {},
   "source": [
    "osiris uses *DataSource* classes to manage importing tabular data. "
   ]
  },
  {
   "cell_type": "code",
   "execution_count": null,
   "id": "260316ff",
   "metadata": {},
   "outputs": [],
   "source": [
    "# Import data directly from GDELT file server\n",
    "from data.gdelt import DataSource\n",
    "import pandas as pd\n",
    "gdelt = DataSource()"
   ]
  },
  {
   "cell_type": "code",
   "execution_count": null,
   "id": "aa777fa1",
   "metadata": {},
   "outputs": [],
   "source": [
    "# Get event data for a 1 week period\n",
    "events = gdelt.import_data('events', 'Apr-14-2022', 'Apr-20-2022')"
   ]
  },
  {
   "cell_type": "markdown",
   "id": "f5501173",
   "metadata": {},
   "source": [
    "About a week's worth of event data in 2022 consists of about 700K events takes up about 340MB RAM."
   ]
  },
  {
   "cell_type": "code",
   "execution_count": null,
   "id": "0993b9c5",
   "metadata": {},
   "outputs": [],
   "source": [
    "events.info()"
   ]
  },
  {
   "cell_type": "code",
   "execution_count": null,
   "id": "32458701",
   "metadata": {},
   "outputs": [],
   "source": [
    "events"
   ]
  },
  {
   "cell_type": "markdown",
   "id": "a6533dfb",
   "metadata": {},
   "source": [
    "Event data is highly denormalized with many redundancies for ease of querying and coded using a hierachical coding system called [CAMEO](http://data.gdeltproject.org/documentation/CAMEO.Manual.1.1b3.pdf) - Conflict and Mediation Event Observations"
   ]
  },
  {
   "cell_type": "code",
   "execution_count": null,
   "id": "0cbfb2f5",
   "metadata": {},
   "outputs": [],
   "source": [
    "events[['EventCode', 'CAMEOCodeDescription']]"
   ]
  },
  {
   "cell_type": "markdown",
   "id": "461005b9",
   "metadata": {},
   "source": [
    "We can query and filter event data directly using the Pandas dataframe"
   ]
  },
  {
   "cell_type": "code",
   "execution_count": null,
   "id": "7daa5e36",
   "metadata": {},
   "outputs": [],
   "source": [
    "# Find all events that were geolocated in Ukraine\n",
    "uka_events = events[(events.ActionGeo_CountryCode == 'UP')]\n",
    "uka_events"
   ]
  },
  {
   "cell_type": "markdown",
   "id": "ab04772c",
   "metadata": {},
   "source": [
    "So about 50K of 700K events last week were coded as happening in Ukraine, not surprising given recent events. Many of those related to use of military force."
   ]
  },
  {
   "cell_type": "code",
   "execution_count": null,
   "id": "abc7adac",
   "metadata": {},
   "outputs": [],
   "source": [
    "# CAMEO code 190 denotes 'use of military force'\n",
    "uka_events[uka_events.EventCode.str.startswith('190')]"
   ]
  },
  {
   "cell_type": "code",
   "execution_count": null,
   "id": "f11cf5ca",
   "metadata": {},
   "outputs": [],
   "source": [
    "# Import Folium to plot these military force events on a map\n",
    "import folium\n",
    "folium.Map(\n",
    "    location=[48., 31.], \n",
    "    tiles=\"Stamen Toner\",\n",
    "    zoom_start=6\n",
    ")"
   ]
  },
  {
   "cell_type": "code",
   "execution_count": null,
   "id": "e4870745",
   "metadata": {},
   "outputs": [],
   "source": [
    "uka_map = folium.Map(\n",
    "    location=[48., 31.], \n",
    "    #tiles=\"Stamen Toner\",\n",
    "    zoom_start=6\n",
    ")\n",
    "uka_map\n",
    "uka_events_sample = uka_events[uka_events.EventCode.str.startswith('190')].sample(n=1000)\n",
    "for r in uka_events_sample.itertuples():\n",
    "    m = folium.Marker(location=[r.ActionGeo_Lat, r.ActionGeo_Long],\n",
    "                      icon=folium.Icon(color=\"red\", icon=\"fire\", prefix=\"glyphicon\"),\n",
    "                      tooltip=str(r.Actor1CountryCode) + '->' + str(r.EventCode) + ' ' +  str(r.CAMEOCodeDescription) + '->' + str(r.Actor2CountryCode) +' on ' + str(r.SQLDATE)\n",
    "                     )\n",
    "    m.add_to(uka_map)\n",
    "uka_map"
   ]
  },
  {
   "cell_type": "markdown",
   "id": "fe404a5b",
   "metadata": {},
   "source": [
    "### Shaping tabular data into graph vertices and edges"
   ]
  },
  {
   "cell_type": "markdown",
   "id": "bd7f9cb1",
   "metadata": {},
   "source": [
    "The GDELT data schema is 'flat' and designed for easy of tabular querying and grouping. To be able to do graph and network queries it needs to be shaped."
   ]
  },
  {
   "cell_type": "code",
   "execution_count": null,
   "id": "0bde82af",
   "metadata": {},
   "outputs": [],
   "source": [
    "from data.etl import shape_event_actor_vertices\n",
    "events_vertices, actor1_vertices, actor2_vertices = shape_event_actor_vertices(uka_events_sample)"
   ]
  },
  {
   "cell_type": "markdown",
   "id": "e34a0542",
   "metadata": {},
   "source": [
    "We create unique IDs for actors that can be linked to actions. We hash individual actor fields together to create a unique ID for each actor and then drop all the other actor fields from event data."
   ]
  },
  {
   "cell_type": "code",
   "execution_count": null,
   "id": "9ef76d98",
   "metadata": {},
   "outputs": [],
   "source": [
    "events_vertices"
   ]
  },
  {
   "cell_type": "markdown",
   "id": "4e60c40a",
   "metadata": {},
   "source": [
    "The actor information is now stored as separate entities that can be linked to actions."
   ]
  },
  {
   "cell_type": "code",
   "execution_count": null,
   "id": "55e5a8b5",
   "metadata": {},
   "outputs": [],
   "source": [
    "actor1_vertices"
   ]
  },
  {
   "cell_type": "markdown",
   "id": "597d373f",
   "metadata": {},
   "source": [
    "We can visualize this data using Graphistry. First let's 'flatten' the graph schema so we only have one type of node and edge"
   ]
  },
  {
   "cell_type": "code",
   "execution_count": 48,
   "id": "494bfbf8",
   "metadata": {},
   "outputs": [],
   "source": [
    "from data.etl import flatten_event_actor_vertices\n",
    "nodes, edges = flatten_event_actor_vertices(events_vertices, actor1_vertices, actor2_vertices)"
   ]
  },
  {
   "cell_type": "code",
   "execution_count": 55,
   "id": "40d107d4",
   "metadata": {},
   "outputs": [],
   "source": [
    "# Start using Graphistry, you'll need GRAPHISTRY_USER and GRAPHISTRY_PASS env variables.\n",
    "# Uncomment this to begin the authorization process for GDrive to use vars.env in Colab\n",
    "# if IN_COLAB:\n",
    "#    import colab_env\n",
    "\n",
    "# If running from a local machine you can set these vars with the other osiris env variables\n",
    "# If in a hosted nb env and not using vars.env or not in Colab you'll have to set it manually\n",
    "# os.envriron[''GRAPHISTRY_USER'] = mygruser\n",
    "# os.envriron[''GRAPHISTRY_PASS'] = mygrpass\n",
    "\n",
    "HAVE_GRAPHISTRY = 'GRAPHISTRY_USER' in os.environ and 'GRAPHISTRY_PASS' in os.environ\n",
    "if HAVE_GRAPHISTRY:\n",
    "    from graphistry import graphistry\n",
    "    graphistry.register(api=3, username=os.environ['GRAPHISTRY_USER'], password=os.environ['GRAPHISTRY_PASS'], protocol='https', server='hub.graphistry.com')"
   ]
  },
  {
   "cell_type": "code",
   "execution_count": 56,
   "id": "a8fa0883",
   "metadata": {
    "scrolled": true
   },
   "outputs": [
    {
     "data": {
      "text/html": [
       "\n",
       "            <iframe id=\"3a47c435-2f9f-4570-aedf-d5a0024b3d3b\" src=\"https://hub.graphistry.com/graph/graph.html?dataset=d13d9535d05d439f87d5755872977f61&type=arrow&viztoken=5285813f-d284-4e2e-b356-917d68477a23&usertag=919a5cb8-pygraphistry-0.23.1+7.gdc002cc&splashAfter=1651582198&info=true\"\n",
       "                    allowfullscreen=\"true\" webkitallowfullscreen=\"true\" mozallowfullscreen=\"true\"\n",
       "                    oallowfullscreen=\"true\" msallowfullscreen=\"true\"\n",
       "                    style=\"width:100%; height:500px; border: 1px solid #DDD; overflow: hidden\"\n",
       "                    \n",
       "            >\n",
       "            </iframe>\n",
       "        \n",
       "            <script>\n",
       "                try {\n",
       "                  $(\"#3a47c435-2f9f-4570-aedf-d5a0024b3d3b\").bind('mousewheel', function(e) { e.preventDefault(); });\n",
       "                } catch (e) { console.error('exn catching scroll', e); }\n",
       "            </script>\n",
       "        "
      ],
      "text/plain": [
       "<IPython.core.display.HTML object>"
      ]
     },
     "execution_count": 56,
     "metadata": {},
     "output_type": "execute_result"
    }
   ],
   "source": [
    "# Plot UP events using Graphistry\n",
    "g = graphistry.bind(source=\"src\", destination=\"dest\", edge_title=\"date\", node=\"node_id\")\n",
    "g.edges(edges).nodes(nodes).plot()"
   ]
  },
  {
   "cell_type": "code",
   "execution_count": null,
   "id": "986b226a",
   "metadata": {},
   "outputs": [],
   "source": [
    "# Plat a larger sample of 10K events.\n",
    "events_vertices, actor1_vertices, actor2_vertices = shape_event_actor_vertices(events.sample(10000))\n",
    "nodes, edges = flatten_event_actor_vertices(events_vertices, actor1_vertices, actor2_vertices)\n",
    "g = graphistry.bind(source=\"src\", destination=\"dest\", edge_title=\"date\", node=\"node_id\")\n",
    "g.edges(edges).nodes(nodes).plot()"
   ]
  }
 ],
 "metadata": {
  "kernelspec": {
   "display_name": "Python 3 (ipykernel)",
   "language": "python",
   "name": "python3"
  },
  "language_info": {
   "codemirror_mode": {
    "name": "ipython",
    "version": 3
   },
   "file_extension": ".py",
   "mimetype": "text/x-python",
   "name": "python",
   "nbconvert_exporter": "python",
   "pygments_lexer": "ipython3",
   "version": "3.9.0"
  }
 },
 "nbformat": 4,
 "nbformat_minor": 5
}
